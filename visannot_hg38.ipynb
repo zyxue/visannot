{
 "cells": [
  {
   "cell_type": "code",
   "execution_count": 1,
   "metadata": {},
   "outputs": [
    {
     "data": {
      "text/html": [
       "\n",
       "<style>\n",
       "   div#notebook-container    { width: 100%; }\n",
       "   div#menubar-container     { width: 100%; }\n",
       "   div#maintoolbar-container { width: 100%; }\n",
       "</style>\n"
      ],
      "text/plain": [
       "<IPython.core.display.HTML object>"
      ]
     },
     "metadata": {},
     "output_type": "display_data"
    }
   ],
   "source": [
    "from eda_imports import *"
   ]
  },
  {
   "cell_type": "code",
   "execution_count": 102,
   "metadata": {},
   "outputs": [
    {
     "name": "stdout",
     "output_type": "stream",
     "text": [
      "CPU times: user 4.99 s, sys: 5.83 s, total: 10.8 s\n",
      "Wall time: 16.4 s\n"
     ]
    }
   ],
   "source": [
    "%time df_gtf_encode = pd.read_pickle('/projects/btl2/zxue/gtf2csv/data/version_comparison/gencode/gencode.v28.annotation.pkl')"
   ]
  },
  {
   "cell_type": "code",
   "execution_count": 105,
   "metadata": {},
   "outputs": [
    {
     "data": {
      "text/plain": [
       "['seqname',\n",
       " 'source',\n",
       " 'feature',\n",
       " 'start',\n",
       " 'end',\n",
       " 'score',\n",
       " 'strand',\n",
       " 'frame',\n",
       " 'ccdsid',\n",
       " 'exon_id',\n",
       " 'exon_number',\n",
       " 'gene_id',\n",
       " 'gene_name',\n",
       " 'gene_type',\n",
       " 'havana_gene',\n",
       " 'havana_transcript',\n",
       " 'level',\n",
       " 'ont_PGO:0000004',\n",
       " 'ont_PGO:0000005',\n",
       " 'ont_PGO:0000006',\n",
       " 'ont_PGO:0000018',\n",
       " 'ont_PGO:0000019',\n",
       " 'ont_PGO:0000025',\n",
       " 'protein_id',\n",
       " 'tag_3_nested_supported_extension',\n",
       " 'tag_3_standard_supported_extension',\n",
       " 'tag_454_RNA_Seq_supported',\n",
       " 'tag_5_nested_supported_extension',\n",
       " 'tag_5_standard_supported_extension',\n",
       " 'tag_CAGE_supported_TSS',\n",
       " 'tag_CCDS',\n",
       " 'tag_NAGNAG_splice_site',\n",
       " 'tag_NMD_exception',\n",
       " 'tag_NMD_likely_if_extended',\n",
       " 'tag_PAR',\n",
       " 'tag_RNA_Seq_supported_only',\n",
       " 'tag_RNA_Seq_supported_partial',\n",
       " 'tag_RP_supported_TIS',\n",
       " 'tag_alternative_3_UTR',\n",
       " 'tag_alternative_5_UTR',\n",
       " 'tag_appris_alternative_1',\n",
       " 'tag_appris_alternative_2',\n",
       " 'tag_appris_principal_1',\n",
       " 'tag_appris_principal_2',\n",
       " 'tag_appris_principal_3',\n",
       " 'tag_appris_principal_4',\n",
       " 'tag_appris_principal_5',\n",
       " 'tag_basic',\n",
       " 'tag_bicistronic',\n",
       " 'tag_cds_end_NF',\n",
       " 'tag_cds_start_NF',\n",
       " 'tag_dotter_confirmed',\n",
       " 'tag_downstream_ATG',\n",
       " 'tag_exp_conf',\n",
       " 'tag_fragmented_locus',\n",
       " 'tag_inferred_exon_combination',\n",
       " 'tag_inferred_transcript_model',\n",
       " 'tag_low_sequence_quality',\n",
       " 'tag_mRNA_end_NF',\n",
       " 'tag_mRNA_start_NF',\n",
       " 'tag_ncRNA_host',\n",
       " 'tag_nested_454_RNA_Seq_supported',\n",
       " 'tag_non_ATG_start',\n",
       " 'tag_non_canonical_TEC',\n",
       " 'tag_non_canonical_U12',\n",
       " 'tag_non_canonical_conserved',\n",
       " 'tag_non_canonical_genome_sequence_error',\n",
       " 'tag_non_canonical_other',\n",
       " 'tag_non_canonical_polymorphism',\n",
       " 'tag_non_submitted_evidence',\n",
       " 'tag_not_best_in_genome_evidence',\n",
       " 'tag_not_organism_supported',\n",
       " 'tag_orphan',\n",
       " 'tag_overlapping_locus',\n",
       " 'tag_overlapping_uORF',\n",
       " 'tag_pseudo_consens',\n",
       " 'tag_readthrough_transcript',\n",
       " 'tag_reference_genome_error',\n",
       " 'tag_retained_intron_CDS',\n",
       " 'tag_retained_intron_final',\n",
       " 'tag_retained_intron_first',\n",
       " 'tag_retrogene',\n",
       " 'tag_seleno',\n",
       " 'tag_semi_processed',\n",
       " 'tag_sequence_error',\n",
       " 'tag_upstream_ATG',\n",
       " 'tag_upstream_uORF',\n",
       " 'transcript_id',\n",
       " 'transcript_name',\n",
       " 'transcript_support_level',\n",
       " 'transcript_type']"
      ]
     },
     "execution_count": 105,
     "metadata": {},
     "output_type": "execute_result"
    }
   ],
   "source": [
    "df_gtf_encode.columns.values.tolist()"
   ]
  },
  {
   "cell_type": "code",
   "execution_count": 104,
   "metadata": {},
   "outputs": [
    {
     "data": {
      "text/plain": [
       "(2689566, 32)"
      ]
     },
     "execution_count": 104,
     "metadata": {},
     "output_type": "execute_result"
    }
   ],
   "source": [
    "df_gtf.shape"
   ]
  },
  {
   "cell_type": "code",
   "execution_count": 78,
   "metadata": {},
   "outputs": [],
   "source": [
    "df_gtf.gene_biotype.apply?"
   ]
  },
  {
   "cell_type": "code",
   "execution_count": 74,
   "metadata": {},
   "outputs": [
    {
     "data": {
      "text/plain": [
       "HAVANA     2442086\n",
       "ENSEMBL    251880 \n",
       "Name: source, dtype: int64"
      ]
     },
     "execution_count": 74,
     "metadata": {},
     "output_type": "execute_result"
    }
   ],
   "source": [
    "df_gtf_encode.source.value_counts()"
   ]
  },
  {
   "cell_type": "code",
   "execution_count": 70,
   "metadata": {},
   "outputs": [
    {
     "data": {
      "text/plain": [
       "count     41624      \n",
       "unique    6          \n",
       "top       PGO:0000004\n",
       "freq      22066      \n",
       "Name: ont, dtype: object"
      ]
     },
     "execution_count": 70,
     "metadata": {},
     "output_type": "execute_result"
    }
   ],
   "source": [
    "df_gtf_encode.ont.describe()"
   ]
  },
  {
   "cell_type": "code",
   "execution_count": 55,
   "metadata": {},
   "outputs": [
    {
     "data": {
      "text/html": [
       "<div>\n",
       "<style scoped>\n",
       "    .dataframe tbody tr th:only-of-type {\n",
       "        vertical-align: middle;\n",
       "    }\n",
       "\n",
       "    .dataframe tbody tr th {\n",
       "        vertical-align: top;\n",
       "    }\n",
       "\n",
       "    .dataframe thead th {\n",
       "        text-align: right;\n",
       "    }\n",
       "</style>\n",
       "<table border=\"1\" class=\"dataframe\">\n",
       "  <thead>\n",
       "    <tr style=\"text-align: right;\">\n",
       "      <th></th>\n",
       "      <th>seqname</th>\n",
       "      <th>source</th>\n",
       "      <th>feature</th>\n",
       "      <th>start</th>\n",
       "      <th>end</th>\n",
       "      <th>score</th>\n",
       "      <th>strand</th>\n",
       "      <th>frame</th>\n",
       "      <th>3_nested_supported_extension</th>\n",
       "      <th>3_standard_supported_extension</th>\n",
       "      <th>454_RNA_Seq_supported</th>\n",
       "      <th>5_nested_supported_extension</th>\n",
       "      <th>5_standard_supported_extension</th>\n",
       "      <th>CAGE_supported_TSS</th>\n",
       "      <th>CCDS</th>\n",
       "      <th>NAGNAG_splice_site</th>\n",
       "      <th>NMD_exception</th>\n",
       "      <th>NMD_likely_if_extended</th>\n",
       "      <th>PAR</th>\n",
       "      <th>RNA_Seq_supported_only</th>\n",
       "      <th>RNA_Seq_supported_partial</th>\n",
       "      <th>RP_supported_TIS</th>\n",
       "      <th>alternative_3_UTR</th>\n",
       "      <th>alternative_5_UTR</th>\n",
       "      <th>appris_alternative_1</th>\n",
       "      <th>appris_alternative_2</th>\n",
       "      <th>appris_principal_1</th>\n",
       "      <th>appris_principal_2</th>\n",
       "      <th>appris_principal_3</th>\n",
       "      <th>appris_principal_4</th>\n",
       "      <th>appris_principal_5</th>\n",
       "      <th>basic</th>\n",
       "      <th>bicistronic</th>\n",
       "      <th>ccdsid</th>\n",
       "      <th>cds_end_NF</th>\n",
       "      <th>cds_start_NF</th>\n",
       "      <th>dotter_confirmed</th>\n",
       "      <th>downstream_ATG</th>\n",
       "      <th>exon_id</th>\n",
       "      <th>exon_number</th>\n",
       "      <th>exp_conf</th>\n",
       "      <th>fragmented_locus</th>\n",
       "      <th>gene_id</th>\n",
       "      <th>gene_name</th>\n",
       "      <th>gene_type</th>\n",
       "      <th>havana_gene</th>\n",
       "      <th>havana_transcript</th>\n",
       "      <th>inferred_exon_combination</th>\n",
       "      <th>inferred_transcript_model</th>\n",
       "      <th>level</th>\n",
       "      <th>low_sequence_quality</th>\n",
       "      <th>mRNA_end_NF</th>\n",
       "      <th>mRNA_start_NF</th>\n",
       "      <th>ncRNA_host</th>\n",
       "      <th>nested_454_RNA_Seq_supported</th>\n",
       "      <th>non_ATG_start</th>\n",
       "      <th>non_canonical_TEC</th>\n",
       "      <th>non_canonical_U12</th>\n",
       "      <th>non_canonical_conserved</th>\n",
       "      <th>non_canonical_genome_sequence_error</th>\n",
       "      <th>non_canonical_other</th>\n",
       "      <th>non_canonical_polymorphism</th>\n",
       "      <th>non_submitted_evidence</th>\n",
       "      <th>not_best_in_genome_evidence</th>\n",
       "      <th>not_organism_supported</th>\n",
       "      <th>ont</th>\n",
       "      <th>orphan</th>\n",
       "      <th>overlapping_locus</th>\n",
       "      <th>overlapping_uORF</th>\n",
       "      <th>protein_id</th>\n",
       "      <th>pseudo_consens</th>\n",
       "      <th>readthrough_transcript</th>\n",
       "      <th>reference_genome_error</th>\n",
       "      <th>retained_intron_CDS</th>\n",
       "      <th>retained_intron_final</th>\n",
       "      <th>retained_intron_first</th>\n",
       "      <th>retrogene</th>\n",
       "      <th>seleno</th>\n",
       "      <th>semi_processed</th>\n",
       "      <th>sequence_error</th>\n",
       "      <th>transcript_id</th>\n",
       "      <th>transcript_name</th>\n",
       "      <th>transcript_support_level</th>\n",
       "      <th>transcript_type</th>\n",
       "      <th>upstream_ATG</th>\n",
       "      <th>upstream_uORF</th>\n",
       "    </tr>\n",
       "  </thead>\n",
       "  <tbody>\n",
       "    <tr>\n",
       "      <th>0</th>\n",
       "      <td>chr1</td>\n",
       "      <td>HAVANA</td>\n",
       "      <td>gene</td>\n",
       "      <td>11869</td>\n",
       "      <td>14409</td>\n",
       "      <td>.</td>\n",
       "      <td>+</td>\n",
       "      <td>.</td>\n",
       "      <td>NaN</td>\n",
       "      <td>NaN</td>\n",
       "      <td>NaN</td>\n",
       "      <td>NaN</td>\n",
       "      <td>NaN</td>\n",
       "      <td>NaN</td>\n",
       "      <td>NaN</td>\n",
       "      <td>NaN</td>\n",
       "      <td>NaN</td>\n",
       "      <td>NaN</td>\n",
       "      <td>NaN</td>\n",
       "      <td>NaN</td>\n",
       "      <td>NaN</td>\n",
       "      <td>NaN</td>\n",
       "      <td>NaN</td>\n",
       "      <td>NaN</td>\n",
       "      <td>NaN</td>\n",
       "      <td>NaN</td>\n",
       "      <td>NaN</td>\n",
       "      <td>NaN</td>\n",
       "      <td>NaN</td>\n",
       "      <td>NaN</td>\n",
       "      <td>NaN</td>\n",
       "      <td>NaN</td>\n",
       "      <td>NaN</td>\n",
       "      <td>NaN</td>\n",
       "      <td>NaN</td>\n",
       "      <td>NaN</td>\n",
       "      <td>NaN</td>\n",
       "      <td>NaN</td>\n",
       "      <td>NaN</td>\n",
       "      <td>NaN</td>\n",
       "      <td>NaN</td>\n",
       "      <td>NaN</td>\n",
       "      <td>ENSG00000223972.5</td>\n",
       "      <td>DDX11L1</td>\n",
       "      <td>transcribed_unprocessed_pseudogene</td>\n",
       "      <td>OTTHUMG00000000961.2</td>\n",
       "      <td>NaN</td>\n",
       "      <td>NaN</td>\n",
       "      <td>NaN</td>\n",
       "      <td>2</td>\n",
       "      <td>NaN</td>\n",
       "      <td>NaN</td>\n",
       "      <td>NaN</td>\n",
       "      <td>NaN</td>\n",
       "      <td>NaN</td>\n",
       "      <td>NaN</td>\n",
       "      <td>NaN</td>\n",
       "      <td>NaN</td>\n",
       "      <td>NaN</td>\n",
       "      <td>NaN</td>\n",
       "      <td>NaN</td>\n",
       "      <td>NaN</td>\n",
       "      <td>NaN</td>\n",
       "      <td>NaN</td>\n",
       "      <td>NaN</td>\n",
       "      <td>NaN</td>\n",
       "      <td>NaN</td>\n",
       "      <td>NaN</td>\n",
       "      <td>NaN</td>\n",
       "      <td>NaN</td>\n",
       "      <td>NaN</td>\n",
       "      <td>NaN</td>\n",
       "      <td>NaN</td>\n",
       "      <td>NaN</td>\n",
       "      <td>NaN</td>\n",
       "      <td>NaN</td>\n",
       "      <td>NaN</td>\n",
       "      <td>NaN</td>\n",
       "      <td>NaN</td>\n",
       "      <td>NaN</td>\n",
       "      <td>NaN</td>\n",
       "      <td>NaN</td>\n",
       "      <td>NaN</td>\n",
       "      <td>NaN</td>\n",
       "      <td>NaN</td>\n",
       "      <td>NaN</td>\n",
       "    </tr>\n",
       "    <tr>\n",
       "      <th>1</th>\n",
       "      <td>chr1</td>\n",
       "      <td>HAVANA</td>\n",
       "      <td>transcript</td>\n",
       "      <td>11869</td>\n",
       "      <td>14409</td>\n",
       "      <td>.</td>\n",
       "      <td>+</td>\n",
       "      <td>.</td>\n",
       "      <td>NaN</td>\n",
       "      <td>NaN</td>\n",
       "      <td>NaN</td>\n",
       "      <td>NaN</td>\n",
       "      <td>NaN</td>\n",
       "      <td>NaN</td>\n",
       "      <td>NaN</td>\n",
       "      <td>NaN</td>\n",
       "      <td>NaN</td>\n",
       "      <td>NaN</td>\n",
       "      <td>NaN</td>\n",
       "      <td>NaN</td>\n",
       "      <td>NaN</td>\n",
       "      <td>NaN</td>\n",
       "      <td>NaN</td>\n",
       "      <td>NaN</td>\n",
       "      <td>NaN</td>\n",
       "      <td>NaN</td>\n",
       "      <td>NaN</td>\n",
       "      <td>NaN</td>\n",
       "      <td>NaN</td>\n",
       "      <td>NaN</td>\n",
       "      <td>NaN</td>\n",
       "      <td>1.0</td>\n",
       "      <td>NaN</td>\n",
       "      <td>NaN</td>\n",
       "      <td>NaN</td>\n",
       "      <td>NaN</td>\n",
       "      <td>NaN</td>\n",
       "      <td>NaN</td>\n",
       "      <td>NaN</td>\n",
       "      <td>NaN</td>\n",
       "      <td>NaN</td>\n",
       "      <td>NaN</td>\n",
       "      <td>ENSG00000223972.5</td>\n",
       "      <td>DDX11L1</td>\n",
       "      <td>transcribed_unprocessed_pseudogene</td>\n",
       "      <td>OTTHUMG00000000961.2</td>\n",
       "      <td>OTTHUMT00000362751.1</td>\n",
       "      <td>NaN</td>\n",
       "      <td>NaN</td>\n",
       "      <td>2</td>\n",
       "      <td>NaN</td>\n",
       "      <td>NaN</td>\n",
       "      <td>NaN</td>\n",
       "      <td>NaN</td>\n",
       "      <td>NaN</td>\n",
       "      <td>NaN</td>\n",
       "      <td>NaN</td>\n",
       "      <td>NaN</td>\n",
       "      <td>NaN</td>\n",
       "      <td>NaN</td>\n",
       "      <td>NaN</td>\n",
       "      <td>NaN</td>\n",
       "      <td>NaN</td>\n",
       "      <td>NaN</td>\n",
       "      <td>NaN</td>\n",
       "      <td>NaN</td>\n",
       "      <td>NaN</td>\n",
       "      <td>NaN</td>\n",
       "      <td>NaN</td>\n",
       "      <td>NaN</td>\n",
       "      <td>NaN</td>\n",
       "      <td>NaN</td>\n",
       "      <td>NaN</td>\n",
       "      <td>NaN</td>\n",
       "      <td>NaN</td>\n",
       "      <td>NaN</td>\n",
       "      <td>NaN</td>\n",
       "      <td>NaN</td>\n",
       "      <td>NaN</td>\n",
       "      <td>NaN</td>\n",
       "      <td>ENST00000456328.2</td>\n",
       "      <td>RP11-34P13.1-002</td>\n",
       "      <td>1.0</td>\n",
       "      <td>processed_transcript</td>\n",
       "      <td>NaN</td>\n",
       "      <td>NaN</td>\n",
       "    </tr>\n",
       "  </tbody>\n",
       "</table>\n",
       "</div>"
      ],
      "text/plain": [
       "  seqname  source     feature  start    end score strand frame  3_nested_supported_extension  3_standard_supported_extension  454_RNA_Seq_supported  5_nested_supported_extension  5_standard_supported_extension  CAGE_supported_TSS  CCDS  NAGNAG_splice_site  NMD_exception  NMD_likely_if_extended  \\\n",
       "0  chr1    HAVANA  gene        11869  14409  .     +      .    NaN                           NaN                             NaN                    NaN                           NaN                             NaN                 NaN   NaN                 NaN            NaN                       \n",
       "1  chr1    HAVANA  transcript  11869  14409  .     +      .    NaN                           NaN                             NaN                    NaN                           NaN                             NaN                 NaN   NaN                 NaN            NaN                       \n",
       "\n",
       "   PAR  RNA_Seq_supported_only  RNA_Seq_supported_partial  RP_supported_TIS  alternative_3_UTR  alternative_5_UTR  appris_alternative_1  appris_alternative_2  appris_principal_1  appris_principal_2  appris_principal_3  appris_principal_4  appris_principal_5  basic  bicistronic ccdsid  cds_end_NF  \\\n",
       "0 NaN  NaN                     NaN                        NaN               NaN                NaN                NaN                   NaN                   NaN                 NaN                 NaN                 NaN                 NaN                 NaN    NaN           NaN   NaN           \n",
       "1 NaN  NaN                     NaN                        NaN               NaN                NaN                NaN                   NaN                   NaN                 NaN                 NaN                 NaN                 NaN                  1.0   NaN           NaN   NaN           \n",
       "\n",
       "   cds_start_NF  dotter_confirmed  downstream_ATG exon_id  exon_number  exp_conf  fragmented_locus            gene_id gene_name                           gene_type           havana_gene     havana_transcript  inferred_exon_combination  inferred_transcript_model  level  low_sequence_quality  \\\n",
       "0 NaN           NaN               NaN              NaN    NaN          NaN       NaN                ENSG00000223972.5  DDX11L1   transcribed_unprocessed_pseudogene  OTTHUMG00000000961.2  NaN                  NaN                        NaN                         2     NaN                     \n",
       "1 NaN           NaN               NaN              NaN    NaN          NaN       NaN                ENSG00000223972.5  DDX11L1   transcribed_unprocessed_pseudogene  OTTHUMG00000000961.2  OTTHUMT00000362751.1 NaN                        NaN                         2     NaN                     \n",
       "\n",
       "   mRNA_end_NF  mRNA_start_NF  ncRNA_host  nested_454_RNA_Seq_supported  non_ATG_start  non_canonical_TEC  non_canonical_U12  non_canonical_conserved  non_canonical_genome_sequence_error  non_canonical_other  non_canonical_polymorphism  non_submitted_evidence  not_best_in_genome_evidence  \\\n",
       "0 NaN          NaN            NaN         NaN                           NaN            NaN                NaN                NaN                      NaN                                  NaN                  NaN                         NaN                     NaN                            \n",
       "1 NaN          NaN            NaN         NaN                           NaN            NaN                NaN                NaN                      NaN                                  NaN                  NaN                         NaN                     NaN                            \n",
       "\n",
       "   not_organism_supported  ont  orphan  overlapping_locus  overlapping_uORF protein_id  pseudo_consens  readthrough_transcript  reference_genome_error  retained_intron_CDS  retained_intron_final  retained_intron_first  retrogene  seleno  semi_processed  sequence_error      transcript_id  \\\n",
       "0 NaN                      NaN NaN     NaN                NaN                NaN       NaN             NaN                     NaN                     NaN                  NaN                    NaN                    NaN        NaN     NaN             NaN              NaN                 \n",
       "1 NaN                      NaN NaN     NaN                NaN                NaN       NaN             NaN                     NaN                     NaN                  NaN                    NaN                    NaN        NaN     NaN             NaN              ENST00000456328.2   \n",
       "\n",
       "    transcript_name  transcript_support_level       transcript_type  upstream_ATG  upstream_uORF  \n",
       "0  NaN              NaN                        NaN                  NaN           NaN             \n",
       "1  RP11-34P13.1-002  1.0                       processed_transcript NaN           NaN             "
      ]
     },
     "execution_count": 55,
     "metadata": {},
     "output_type": "execute_result"
    }
   ],
   "source": [
    "df_gtf_encode.head(2)"
   ]
  },
  {
   "cell_type": "code",
   "execution_count": 66,
   "metadata": {},
   "outputs": [
    {
     "data": {
      "text/plain": [
       "protein_coding                        1827453\n",
       "nonsense_mediated_decay               332604 \n",
       "processed_transcript                  154813 \n",
       "retained_intron                       148207 \n",
       "lincRNA                               56419  \n",
       "antisense                             45691  \n",
       "processed_pseudogene                  22068  \n",
       "unprocessed_pseudogene                10886  \n",
       "transcribed_unprocessed_pseudogene    6247   \n",
       "misc_RNA                              4454   \n",
       "snRNA                                 3800   \n",
       "miRNA                                 3762   \n",
       "sense_intronic                        2689   \n",
       "TEC                                   2336   \n",
       "snoRNA                                1910   \n",
       "non_stop_decay                        1395   \n",
       "sense_overlapping                     1376   \n",
       "bidirectional_promoter_lncRNA         1292   \n",
       "transcribed_unitary_pseudogene        1170   \n",
       "transcribed_processed_pseudogene      1126   \n",
       "rRNA                                  1088   \n",
       "IG_V_gene                             986    \n",
       "polymorphic_pseudogene                910    \n",
       "TR_V_gene                             717    \n",
       "IG_V_pseudogene                       476    \n",
       "unitary_pseudogene                    387    \n",
       "IG_C_gene                             267    \n",
       "TR_J_gene                             237    \n",
       "pseudogene                            128    \n",
       "3prime_overlapping_ncRNA              124    \n",
       "IG_D_gene                             115    \n",
       "scaRNA                                98     \n",
       "TR_V_pseudogene                       90     \n",
       "TR_C_gene                             64     \n",
       "IG_J_gene                             58     \n",
       "Mt_tRNA                               44     \n",
       "IG_C_pseudogene                       24     \n",
       "ribozyme                              16     \n",
       "TR_D_gene                             12     \n",
       "sRNA                                  10     \n",
       "TR_J_pseudogene                       8      \n",
       "non_coding                            6      \n",
       "IG_J_pseudogene                       6      \n",
       "Mt_rRNA                               4      \n",
       "translated_processed_pseudogene       4      \n",
       "vaultRNA                              2      \n",
       "macro_lncRNA                          2      \n",
       "IG_pseudogene                         2      \n",
       "scRNA                                 2      \n",
       "Name: transcript_type, dtype: int64"
      ]
     },
     "execution_count": 66,
     "metadata": {},
     "output_type": "execute_result"
    }
   ],
   "source": [
    "df_gtf_encode.transcript_type.value_counts()"
   ]
  },
  {
   "cell_type": "code",
   "execution_count": 69,
   "metadata": {},
   "outputs": [
    {
     "data": {
      "text/plain": [
       "(203836,)"
      ]
     },
     "execution_count": 69,
     "metadata": {},
     "output_type": "execute_result"
    }
   ],
   "source": [
    "df_gtf_encode.transcript_id.unique().shape"
   ]
  },
  {
   "cell_type": "code",
   "execution_count": 68,
   "metadata": {},
   "outputs": [
    {
     "data": {
      "text/plain": [
       "protein_coding                        19901\n",
       "processed_pseudogene                  10219\n",
       "lincRNA                               7490 \n",
       "antisense                             5501 \n",
       "unprocessed_pseudogene                2664 \n",
       "misc_RNA                              2213 \n",
       "snRNA                                 1900 \n",
       "miRNA                                 1881 \n",
       "TEC                                   1067 \n",
       "snoRNA                                943  \n",
       "sense_intronic                        899  \n",
       "transcribed_unprocessed_pseudogene    855  \n",
       "processed_transcript                  556  \n",
       "rRNA                                  544  \n",
       "transcribed_processed_pseudogene      472  \n",
       "IG_V_pseudogene                       188  \n",
       "sense_overlapping                     183  \n",
       "IG_V_gene                             144  \n",
       "transcribed_unitary_pseudogene        123  \n",
       "TR_V_gene                             106  \n",
       "unitary_pseudogene                    95   \n",
       "TR_J_gene                             79   \n",
       "scaRNA                                49   \n",
       "bidirectional_promoter_lncRNA         47   \n",
       "polymorphic_pseudogene                38   \n",
       "IG_D_gene                             37   \n",
       "TR_V_pseudogene                       33   \n",
       "3prime_overlapping_ncRNA              32   \n",
       "Mt_tRNA                               22   \n",
       "IG_J_gene                             18   \n",
       "pseudogene                            18   \n",
       "IG_C_gene                             14   \n",
       "IG_C_pseudogene                       9    \n",
       "ribozyme                              8    \n",
       "TR_C_gene                             6    \n",
       "sRNA                                  5    \n",
       "TR_D_gene                             4    \n",
       "TR_J_pseudogene                       4    \n",
       "IG_J_pseudogene                       3    \n",
       "non_coding                            3    \n",
       "Mt_rRNA                               2    \n",
       "translated_processed_pseudogene       2    \n",
       "macro_lncRNA                          1    \n",
       "IG_pseudogene                         1    \n",
       "scRNA                                 1    \n",
       "vaultRNA                              1    \n",
       "Name: gene_type, dtype: int64"
      ]
     },
     "execution_count": 68,
     "metadata": {},
     "output_type": "execute_result"
    }
   ],
   "source": [
    "df_gtf_encode.query('feature == \"gene\"').gene_type.value_counts()"
   ]
  },
  {
   "cell_type": "code",
   "execution_count": null,
   "metadata": {},
   "outputs": [],
   "source": []
  },
  {
   "cell_type": "code",
   "execution_count": 62,
   "metadata": {},
   "outputs": [
    {
     "data": {
      "text/plain": [
       "(19901,)"
      ]
     },
     "execution_count": 62,
     "metadata": {},
     "output_type": "execute_result"
    }
   ],
   "source": [
    "df_gtf_encode.query('gene_type == \"protein_coding\"').gene_id.unique().shape"
   ]
  },
  {
   "cell_type": "code",
   "execution_count": null,
   "metadata": {},
   "outputs": [],
   "source": []
  },
  {
   "cell_type": "code",
   "execution_count": null,
   "metadata": {},
   "outputs": [],
   "source": []
  },
  {
   "cell_type": "code",
   "execution_count": null,
   "metadata": {},
   "outputs": [],
   "source": []
  },
  {
   "cell_type": "code",
   "execution_count": 80,
   "metadata": {},
   "outputs": [
    {
     "name": "stdout",
     "output_type": "stream",
     "text": [
      "CPU times: user 11.5 ms, sys: 6.19 ms, total: 17.7 ms\n",
      "Wall time: 18 ms\n"
     ]
    }
   ],
   "source": [
    "%time df0 = pd.read_csv('/projects/btl2/zxue/gtf2csv/test_data/Homo_sapiens.GRCh37.75.head1000.bk.csv', low_memory=False)"
   ]
  },
  {
   "cell_type": "code",
   "execution_count": 79,
   "metadata": {},
   "outputs": [
    {
     "name": "stdout",
     "output_type": "stream",
     "text": [
      "CPU times: user 11.3 ms, sys: 5.85 ms, total: 17.2 ms\n",
      "Wall time: 19.5 ms\n"
     ]
    }
   ],
   "source": [
    "%time df1 = pd.read_csv('/projects/btl2/zxue/gtf2csv/test_data/Homo_sapiens.GRCh37.75.head1000.csv', low_memory=False)"
   ]
  },
  {
   "cell_type": "code",
   "execution_count": 81,
   "metadata": {},
   "outputs": [
    {
     "data": {
      "text/plain": [
       "Index(['seqname', 'source', 'feature', 'start', 'end', 'score', 'strand', 'frame', 'CCDS', 'ccds_id', 'cds_end_NF', 'cds_start_NF', 'exon_id', 'exon_number', 'gene_biotype', 'gene_id', 'gene_name', 'gene_source', 'mRNA_end_NF', 'mRNA_start_NF', 'protein_id', 'transcript_id', 'transcript_name',\n",
       "       'transcript_source'],\n",
       "      dtype='object')"
      ]
     },
     "execution_count": 81,
     "metadata": {},
     "output_type": "execute_result"
    }
   ],
   "source": [
    "df0.columns"
   ]
  },
  {
   "cell_type": "code",
   "execution_count": 95,
   "metadata": {},
   "outputs": [],
   "source": [
    "ndf0 = df0.rename(columns=dict(zip(\n",
    "    ['cds_end_NF', 'cds_start_NF', 'mRNA_end_NF', 'mRNA_start_NF', 'CCDS'],\n",
    "    ['tag_cds_end_NF', 'tag_cds_start_NF', 'tag_mRNA_end_NF', 'tag_mRNA_start_NF', 'tag_CCDS'])))"
   ]
  },
  {
   "cell_type": "code",
   "execution_count": 98,
   "metadata": {},
   "outputs": [
    {
     "name": "stdout",
     "output_type": "stream",
     "text": [
      "seqname,True\n",
      "source,True\n",
      "feature,True\n",
      "start,True\n",
      "end,True\n",
      "score,True\n",
      "strand,True\n",
      "frame,True\n",
      "tag_CCDS,True\n",
      "ccds_id,True\n",
      "tag_cds_end_NF,True\n",
      "tag_cds_start_NF,True\n",
      "exon_id,True\n",
      "exon_number,True\n",
      "gene_biotype,True\n",
      "gene_id,True\n",
      "gene_name,True\n",
      "gene_source,True\n",
      "tag_mRNA_end_NF,True\n",
      "tag_mRNA_start_NF,True\n",
      "protein_id,True\n",
      "transcript_id,True\n",
      "transcript_name,True\n",
      "transcript_source,True\n"
     ]
    }
   ],
   "source": [
    "for c in ndf0.columns:\n",
    "    print(c, end=',')\n",
    "    print((ndf0[c].fillna(0) == df1[c].fillna(0)).all())"
   ]
  },
  {
   "cell_type": "code",
   "execution_count": 101,
   "metadata": {},
   "outputs": [
    {
     "data": {
      "text/plain": [
       "array([ True,  True,  True,  True,  True,  True,  True,  True,  True,\n",
       "        True,  True,  True,  True,  True,  True,  True,  True,  True,\n",
       "        True,  True,  True,  True,  True,  True], dtype=bool)"
      ]
     },
     "execution_count": 101,
     "metadata": {},
     "output_type": "execute_result"
    }
   ],
   "source": [
    "_cols = ndf0.columns\n",
    "(ndf0[_cols].fillna(0).values == df1[_cols].fillna(0).values).all(axis=0)"
   ]
  },
  {
   "cell_type": "code",
   "execution_count": 86,
   "metadata": {},
   "outputs": [
    {
     "data": {
      "text/plain": [
       "(995,)"
      ]
     },
     "execution_count": 86,
     "metadata": {},
     "output_type": "execute_result"
    }
   ],
   "source": [
    "(df0.mRNA_end_NF.fillna(0) == df1.tag_mRNA_end_NF.fillna(0)).shape"
   ]
  },
  {
   "cell_type": "code",
   "execution_count": 82,
   "metadata": {},
   "outputs": [
    {
     "data": {
      "text/plain": [
       "Index(['seqname', 'source', 'feature', 'start', 'end', 'score', 'strand', 'frame', 'ccds_id', 'exon_id', 'exon_number', 'gene_biotype', 'gene_id', 'gene_name', 'gene_source', 'protein_id', 'tag_CCDS', 'tag_cds_end_NF', 'tag_cds_start_NF', 'tag_mRNA_end_NF', 'tag_mRNA_start_NF', 'transcript_id',\n",
       "       'transcript_name', 'transcript_source'],\n",
       "      dtype='object')"
      ]
     },
     "execution_count": 82,
     "metadata": {},
     "output_type": "execute_result"
    }
   ],
   "source": [
    "df1.columns"
   ]
  },
  {
   "cell_type": "code",
   "execution_count": 84,
   "metadata": {},
   "outputs": [
    {
     "data": {
      "text/plain": [
       "(995, 24)"
      ]
     },
     "execution_count": 84,
     "metadata": {},
     "output_type": "execute_result"
    }
   ],
   "source": [
    "df1.shape"
   ]
  },
  {
   "cell_type": "code",
   "execution_count": null,
   "metadata": {},
   "outputs": [],
   "source": []
  },
  {
   "cell_type": "code",
   "execution_count": null,
   "metadata": {},
   "outputs": [],
   "source": []
  },
  {
   "cell_type": "code",
   "execution_count": null,
   "metadata": {},
   "outputs": [],
   "source": []
  },
  {
   "cell_type": "code",
   "execution_count": null,
   "metadata": {},
   "outputs": [],
   "source": []
  },
  {
   "cell_type": "code",
   "execution_count": 2,
   "metadata": {},
   "outputs": [
    {
     "name": "stdout",
     "output_type": "stream",
     "text": [
      "CPU times: user 1.59 s, sys: 980 ms, total: 2.57 s\n",
      "Wall time: 2.57 s\n"
     ]
    }
   ],
   "source": [
    "pkl = '/projects/btl2/zxue/gtf2csv/data/Homo_sapiens.GRCh38.92.pkl'\n",
    "%time df_gtf = pd.read_pickle(pkl)"
   ]
  },
  {
   "cell_type": "code",
   "execution_count": 48,
   "metadata": {},
   "outputs": [],
   "source": [
    "df_gtf = df_gtf.sort_values(['seqname', 'start', 'end']).reset_index(drop=True)"
   ]
  },
  {
   "cell_type": "code",
   "execution_count": 45,
   "metadata": {},
   "outputs": [],
   "source": [
    "df_gtf['seqname'] = df_gtf['seqname'].astype(str)"
   ]
  },
  {
   "cell_type": "code",
   "execution_count": 75,
   "metadata": {},
   "outputs": [
    {
     "data": {
      "text/plain": [
       "havana            1752993\n",
       "ensembl_havana    685143 \n",
       "ensembl           245756 \n",
       "mirbase           5637   \n",
       "insdc             37     \n",
       "Name: source, dtype: int64"
      ]
     },
     "execution_count": 75,
     "metadata": {},
     "output_type": "execute_result"
    }
   ],
   "source": [
    "df_gtf.source.value_counts()"
   ]
  },
  {
   "cell_type": "code",
   "execution_count": 46,
   "metadata": {},
   "outputs": [
    {
     "data": {
      "text/plain": [
       "exon               1237303\n",
       "CDS                734649 \n",
       "transcript         203742 \n",
       "five_prime_utr     147919 \n",
       "three_prime_utr    144546 \n",
       "start_codon        85453  \n",
       "stop_codon         77440  \n",
       "gene               58395  \n",
       "Selenocysteine     119    \n",
       "Name: feature, dtype: int64"
      ]
     },
     "execution_count": 46,
     "metadata": {},
     "output_type": "execute_result"
    }
   ],
   "source": [
    "df_gtf.feature.value_counts()"
   ]
  },
  {
   "cell_type": "code",
   "execution_count": 49,
   "metadata": {},
   "outputs": [
    {
     "data": {
      "text/html": [
       "<div>\n",
       "<style scoped>\n",
       "    .dataframe tbody tr th:only-of-type {\n",
       "        vertical-align: middle;\n",
       "    }\n",
       "\n",
       "    .dataframe tbody tr th {\n",
       "        vertical-align: top;\n",
       "    }\n",
       "\n",
       "    .dataframe thead th {\n",
       "        text-align: right;\n",
       "    }\n",
       "</style>\n",
       "<table border=\"1\" class=\"dataframe\">\n",
       "  <thead>\n",
       "    <tr style=\"text-align: right;\">\n",
       "      <th></th>\n",
       "      <th>seqname</th>\n",
       "      <th>source</th>\n",
       "      <th>feature</th>\n",
       "      <th>start</th>\n",
       "      <th>end</th>\n",
       "      <th>score</th>\n",
       "      <th>strand</th>\n",
       "      <th>frame</th>\n",
       "      <th>CCDS</th>\n",
       "      <th>basic</th>\n",
       "      <th>ccds_id</th>\n",
       "      <th>cds_end_NF</th>\n",
       "      <th>cds_start_NF</th>\n",
       "      <th>exon_id</th>\n",
       "      <th>exon_number</th>\n",
       "      <th>exon_version</th>\n",
       "      <th>gene_biotype</th>\n",
       "      <th>gene_id</th>\n",
       "      <th>gene_name</th>\n",
       "      <th>gene_source</th>\n",
       "      <th>gene_version</th>\n",
       "      <th>mRNA_end_NF</th>\n",
       "      <th>mRNA_start_NF</th>\n",
       "      <th>protein_id</th>\n",
       "      <th>protein_version</th>\n",
       "      <th>seleno</th>\n",
       "      <th>transcript_biotype</th>\n",
       "      <th>transcript_id</th>\n",
       "      <th>transcript_name</th>\n",
       "      <th>transcript_source</th>\n",
       "      <th>transcript_support_level</th>\n",
       "      <th>transcript_version</th>\n",
       "    </tr>\n",
       "  </thead>\n",
       "  <tbody>\n",
       "    <tr>\n",
       "      <th>0</th>\n",
       "      <td>1</td>\n",
       "      <td>havana</td>\n",
       "      <td>exon</td>\n",
       "      <td>11869</td>\n",
       "      <td>12227</td>\n",
       "      <td>.</td>\n",
       "      <td>+</td>\n",
       "      <td>.</td>\n",
       "      <td>NaN</td>\n",
       "      <td>1.0</td>\n",
       "      <td>NaN</td>\n",
       "      <td>NaN</td>\n",
       "      <td>NaN</td>\n",
       "      <td>ENSE00002234944</td>\n",
       "      <td>1.0</td>\n",
       "      <td>1.0</td>\n",
       "      <td>transcribed_unprocessed_pseudogene</td>\n",
       "      <td>ENSG00000223972</td>\n",
       "      <td>DDX11L1</td>\n",
       "      <td>havana</td>\n",
       "      <td>5</td>\n",
       "      <td>NaN</td>\n",
       "      <td>NaN</td>\n",
       "      <td>NaN</td>\n",
       "      <td>NaN</td>\n",
       "      <td>NaN</td>\n",
       "      <td>processed_transcript</td>\n",
       "      <td>ENST00000456328</td>\n",
       "      <td>DDX11L1-202</td>\n",
       "      <td>havana</td>\n",
       "      <td>1</td>\n",
       "      <td>2.0</td>\n",
       "    </tr>\n",
       "    <tr>\n",
       "      <th>1</th>\n",
       "      <td>1</td>\n",
       "      <td>havana</td>\n",
       "      <td>gene</td>\n",
       "      <td>11869</td>\n",
       "      <td>14409</td>\n",
       "      <td>.</td>\n",
       "      <td>+</td>\n",
       "      <td>.</td>\n",
       "      <td>NaN</td>\n",
       "      <td>NaN</td>\n",
       "      <td>NaN</td>\n",
       "      <td>NaN</td>\n",
       "      <td>NaN</td>\n",
       "      <td>NaN</td>\n",
       "      <td>NaN</td>\n",
       "      <td>NaN</td>\n",
       "      <td>transcribed_unprocessed_pseudogene</td>\n",
       "      <td>ENSG00000223972</td>\n",
       "      <td>DDX11L1</td>\n",
       "      <td>havana</td>\n",
       "      <td>5</td>\n",
       "      <td>NaN</td>\n",
       "      <td>NaN</td>\n",
       "      <td>NaN</td>\n",
       "      <td>NaN</td>\n",
       "      <td>NaN</td>\n",
       "      <td>NaN</td>\n",
       "      <td>NaN</td>\n",
       "      <td>NaN</td>\n",
       "      <td>NaN</td>\n",
       "      <td>NaN</td>\n",
       "      <td>NaN</td>\n",
       "    </tr>\n",
       "    <tr>\n",
       "      <th>2</th>\n",
       "      <td>1</td>\n",
       "      <td>havana</td>\n",
       "      <td>transcript</td>\n",
       "      <td>11869</td>\n",
       "      <td>14409</td>\n",
       "      <td>.</td>\n",
       "      <td>+</td>\n",
       "      <td>.</td>\n",
       "      <td>NaN</td>\n",
       "      <td>1.0</td>\n",
       "      <td>NaN</td>\n",
       "      <td>NaN</td>\n",
       "      <td>NaN</td>\n",
       "      <td>NaN</td>\n",
       "      <td>NaN</td>\n",
       "      <td>NaN</td>\n",
       "      <td>transcribed_unprocessed_pseudogene</td>\n",
       "      <td>ENSG00000223972</td>\n",
       "      <td>DDX11L1</td>\n",
       "      <td>havana</td>\n",
       "      <td>5</td>\n",
       "      <td>NaN</td>\n",
       "      <td>NaN</td>\n",
       "      <td>NaN</td>\n",
       "      <td>NaN</td>\n",
       "      <td>NaN</td>\n",
       "      <td>processed_transcript</td>\n",
       "      <td>ENST00000456328</td>\n",
       "      <td>DDX11L1-202</td>\n",
       "      <td>havana</td>\n",
       "      <td>1</td>\n",
       "      <td>2.0</td>\n",
       "    </tr>\n",
       "    <tr>\n",
       "      <th>3</th>\n",
       "      <td>1</td>\n",
       "      <td>havana</td>\n",
       "      <td>exon</td>\n",
       "      <td>12010</td>\n",
       "      <td>12057</td>\n",
       "      <td>.</td>\n",
       "      <td>+</td>\n",
       "      <td>.</td>\n",
       "      <td>NaN</td>\n",
       "      <td>1.0</td>\n",
       "      <td>NaN</td>\n",
       "      <td>NaN</td>\n",
       "      <td>NaN</td>\n",
       "      <td>ENSE00001948541</td>\n",
       "      <td>1.0</td>\n",
       "      <td>1.0</td>\n",
       "      <td>transcribed_unprocessed_pseudogene</td>\n",
       "      <td>ENSG00000223972</td>\n",
       "      <td>DDX11L1</td>\n",
       "      <td>havana</td>\n",
       "      <td>5</td>\n",
       "      <td>NaN</td>\n",
       "      <td>NaN</td>\n",
       "      <td>NaN</td>\n",
       "      <td>NaN</td>\n",
       "      <td>NaN</td>\n",
       "      <td>transcribed_unprocessed_pseudogene</td>\n",
       "      <td>ENST00000450305</td>\n",
       "      <td>DDX11L1-201</td>\n",
       "      <td>havana</td>\n",
       "      <td>NaN</td>\n",
       "      <td>2.0</td>\n",
       "    </tr>\n",
       "    <tr>\n",
       "      <th>4</th>\n",
       "      <td>1</td>\n",
       "      <td>havana</td>\n",
       "      <td>transcript</td>\n",
       "      <td>12010</td>\n",
       "      <td>13670</td>\n",
       "      <td>.</td>\n",
       "      <td>+</td>\n",
       "      <td>.</td>\n",
       "      <td>NaN</td>\n",
       "      <td>1.0</td>\n",
       "      <td>NaN</td>\n",
       "      <td>NaN</td>\n",
       "      <td>NaN</td>\n",
       "      <td>NaN</td>\n",
       "      <td>NaN</td>\n",
       "      <td>NaN</td>\n",
       "      <td>transcribed_unprocessed_pseudogene</td>\n",
       "      <td>ENSG00000223972</td>\n",
       "      <td>DDX11L1</td>\n",
       "      <td>havana</td>\n",
       "      <td>5</td>\n",
       "      <td>NaN</td>\n",
       "      <td>NaN</td>\n",
       "      <td>NaN</td>\n",
       "      <td>NaN</td>\n",
       "      <td>NaN</td>\n",
       "      <td>transcribed_unprocessed_pseudogene</td>\n",
       "      <td>ENST00000450305</td>\n",
       "      <td>DDX11L1-201</td>\n",
       "      <td>havana</td>\n",
       "      <td>NaN</td>\n",
       "      <td>2.0</td>\n",
       "    </tr>\n",
       "  </tbody>\n",
       "</table>\n",
       "</div>"
      ],
      "text/plain": [
       "  seqname  source     feature  start    end score strand frame  CCDS  basic ccds_id  cds_end_NF  cds_start_NF          exon_id  exon_number  exon_version                        gene_biotype          gene_id gene_name gene_source  gene_version  mRNA_end_NF  mRNA_start_NF protein_id  \\\n",
       "0  1       havana  exon        11869  12227  .     +      .    NaN    1.0    NaN    NaN         NaN            ENSE00002234944  1.0          1.0           transcribed_unprocessed_pseudogene  ENSG00000223972  DDX11L1   havana      5            NaN          NaN             NaN         \n",
       "1  1       havana  gene        11869  14409  .     +      .    NaN   NaN     NaN    NaN         NaN            NaN             NaN          NaN            transcribed_unprocessed_pseudogene  ENSG00000223972  DDX11L1   havana      5            NaN          NaN             NaN         \n",
       "2  1       havana  transcript  11869  14409  .     +      .    NaN    1.0    NaN    NaN         NaN            NaN             NaN          NaN            transcribed_unprocessed_pseudogene  ENSG00000223972  DDX11L1   havana      5            NaN          NaN             NaN         \n",
       "3  1       havana  exon        12010  12057  .     +      .    NaN    1.0    NaN    NaN         NaN            ENSE00001948541  1.0          1.0           transcribed_unprocessed_pseudogene  ENSG00000223972  DDX11L1   havana      5            NaN          NaN             NaN         \n",
       "4  1       havana  transcript  12010  13670  .     +      .    NaN    1.0    NaN    NaN         NaN            NaN             NaN          NaN            transcribed_unprocessed_pseudogene  ENSG00000223972  DDX11L1   havana      5            NaN          NaN             NaN         \n",
       "\n",
       "   protein_version  seleno                  transcript_biotype    transcript_id transcript_name transcript_source transcript_support_level  transcript_version  \n",
       "0 NaN              NaN      processed_transcript                ENST00000456328  DDX11L1-202     havana            1                        2.0                 \n",
       "1 NaN              NaN      NaN                                 NaN              NaN             NaN               NaN                     NaN                  \n",
       "2 NaN              NaN      processed_transcript                ENST00000456328  DDX11L1-202     havana            1                        2.0                 \n",
       "3 NaN              NaN      transcribed_unprocessed_pseudogene  ENST00000450305  DDX11L1-201     havana            NaN                      2.0                 \n",
       "4 NaN              NaN      transcribed_unprocessed_pseudogene  ENST00000450305  DDX11L1-201     havana            NaN                      2.0                 "
      ]
     },
     "execution_count": 49,
     "metadata": {},
     "output_type": "execute_result"
    }
   ],
   "source": [
    "df_gtf.head()"
   ]
  },
  {
   "cell_type": "code",
   "execution_count": 42,
   "metadata": {},
   "outputs": [],
   "source": [
    "df_gene = df_gtf.query('feature == \"gene\"')"
   ]
  },
  {
   "cell_type": "code",
   "execution_count": 50,
   "metadata": {},
   "outputs": [],
   "source": [
    "for k, row in df_gtf.iterrows():\n",
    "    break"
   ]
  },
  {
   "cell_type": "code",
   "execution_count": 53,
   "metadata": {},
   "outputs": [
    {
     "data": {
      "text/plain": [
       "int"
      ]
     },
     "execution_count": 53,
     "metadata": {},
     "output_type": "execute_result"
    }
   ],
   "source": [
    "type(k)"
   ]
  },
  {
   "cell_type": "code",
   "execution_count": 51,
   "metadata": {},
   "outputs": [
    {
     "data": {
      "text/plain": [
       "{'seqname': '1',\n",
       " 'source': 'havana',\n",
       " 'feature': 'exon',\n",
       " 'start': 11869,\n",
       " 'end': 12227,\n",
       " 'score': '.',\n",
       " 'strand': '+',\n",
       " 'frame': '.',\n",
       " 'basic': 1.0,\n",
       " 'exon_id': 'ENSE00002234944',\n",
       " 'exon_number': 1.0,\n",
       " 'exon_version': 1.0,\n",
       " 'gene_biotype': 'transcribed_unprocessed_pseudogene',\n",
       " 'gene_id': 'ENSG00000223972',\n",
       " 'gene_name': 'DDX11L1',\n",
       " 'gene_source': 'havana',\n",
       " 'gene_version': 5,\n",
       " 'transcript_biotype': 'processed_transcript',\n",
       " 'transcript_id': 'ENST00000456328',\n",
       " 'transcript_name': 'DDX11L1-202',\n",
       " 'transcript_source': 'havana',\n",
       " 'transcript_support_level': '1',\n",
       " 'transcript_version': 2.0}"
      ]
     },
     "execution_count": 51,
     "metadata": {},
     "output_type": "execute_result"
    }
   ],
   "source": [
    "row.dropna().to_dict()"
   ]
  },
  {
   "cell_type": "code",
   "execution_count": null,
   "metadata": {},
   "outputs": [],
   "source": [
    "# str_cols = [\n",
    "#     'seqname', 'source', 'feature', \n",
    "# ]\n",
    "# int_cols = [\n",
    "#     'start', 'end'\n",
    "# ]\n",
    "# float_cols"
   ]
  },
  {
   "cell_type": "code",
   "execution_count": 30,
   "metadata": {},
   "outputs": [
    {
     "name": "stdout",
     "output_type": "stream",
     "text": [
      "<class 'pandas.core.frame.DataFrame'>\n",
      "RangeIndex: 2689566 entries, 0 to 2689565\n",
      "Data columns (total 32 columns):\n",
      "seqname                     object\n",
      "source                      object\n",
      "feature                     object\n",
      "start                       int64\n",
      "end                         int64\n",
      "score                       object\n",
      "strand                      object\n",
      "frame                       object\n",
      "CCDS                        float64\n",
      "basic                       float64\n",
      "ccds_id                     object\n",
      "cds_end_NF                  float64\n",
      "cds_start_NF                float64\n",
      "exon_id                     object\n",
      "exon_number                 float64\n",
      "exon_version                float64\n",
      "gene_biotype                object\n",
      "gene_id                     object\n",
      "gene_name                   object\n",
      "gene_source                 object\n",
      "gene_version                int64\n",
      "mRNA_end_NF                 float64\n",
      "mRNA_start_NF               float64\n",
      "protein_id                  object\n",
      "protein_version             float64\n",
      "seleno                      float64\n",
      "transcript_biotype          object\n",
      "transcript_id               object\n",
      "transcript_name             object\n",
      "transcript_source           object\n",
      "transcript_support_level    object\n",
      "transcript_version          float64\n",
      "dtypes: float64(11), int64(3), object(18)\n",
      "memory usage: 656.6+ MB\n"
     ]
    }
   ],
   "source": [
    "df_gtf.info()"
   ]
  },
  {
   "cell_type": "code",
   "execution_count": 29,
   "metadata": {},
   "outputs": [
    {
     "data": {
      "text/plain": [
       "{'seqname': 1,\n",
       " 'source': 'havana',\n",
       " 'feature': 'gene',\n",
       " 'start': 11869,\n",
       " 'end': 14409,\n",
       " 'score': '.',\n",
       " 'strand': '+',\n",
       " 'frame': '.',\n",
       " 'gene_biotype': 'transcribed_unprocessed_pseudogene',\n",
       " 'gene_id': 'ENSG00000223972',\n",
       " 'gene_name': 'DDX11L1',\n",
       " 'gene_source': 'havana',\n",
       " 'gene_version': 5}"
      ]
     },
     "execution_count": 29,
     "metadata": {},
     "output_type": "execute_result"
    }
   ],
   "source": [
    "row.dropna().to_dict()"
   ]
  },
  {
   "cell_type": "code",
   "execution_count": null,
   "metadata": {},
   "outputs": [],
   "source": []
  },
  {
   "cell_type": "code",
   "execution_count": null,
   "metadata": {},
   "outputs": [],
   "source": []
  },
  {
   "cell_type": "code",
   "execution_count": null,
   "metadata": {},
   "outputs": [],
   "source": []
  },
  {
   "cell_type": "code",
   "execution_count": 14,
   "metadata": {},
   "outputs": [],
   "source": [
    "ndf_gtf = df_gtf.query('feature != \"gene\"').query('feature != \"transcript\"')"
   ]
  },
  {
   "cell_type": "code",
   "execution_count": 15,
   "metadata": {},
   "outputs": [],
   "source": [
    "bdf = ndf_gtf.query('gene_name == \"DDX6P2\"')"
   ]
  },
  {
   "cell_type": "code",
   "execution_count": 16,
   "metadata": {},
   "outputs": [
    {
     "data": {
      "text/html": [
       "<div>\n",
       "<style scoped>\n",
       "    .dataframe tbody tr th:only-of-type {\n",
       "        vertical-align: middle;\n",
       "    }\n",
       "\n",
       "    .dataframe tbody tr th {\n",
       "        vertical-align: top;\n",
       "    }\n",
       "\n",
       "    .dataframe thead th {\n",
       "        text-align: right;\n",
       "    }\n",
       "</style>\n",
       "<table border=\"1\" class=\"dataframe\">\n",
       "  <thead>\n",
       "    <tr style=\"text-align: right;\">\n",
       "      <th></th>\n",
       "      <th>seqname</th>\n",
       "      <th>source</th>\n",
       "      <th>feature</th>\n",
       "      <th>start</th>\n",
       "      <th>end</th>\n",
       "      <th>score</th>\n",
       "      <th>strand</th>\n",
       "      <th>frame</th>\n",
       "      <th>CCDS</th>\n",
       "      <th>basic</th>\n",
       "      <th>ccds_id</th>\n",
       "      <th>cds_end_NF</th>\n",
       "      <th>cds_start_NF</th>\n",
       "      <th>exon_id</th>\n",
       "      <th>exon_number</th>\n",
       "      <th>exon_version</th>\n",
       "      <th>gene_biotype</th>\n",
       "      <th>gene_id</th>\n",
       "      <th>gene_name</th>\n",
       "      <th>gene_source</th>\n",
       "      <th>gene_version</th>\n",
       "      <th>mRNA_end_NF</th>\n",
       "      <th>mRNA_start_NF</th>\n",
       "      <th>protein_id</th>\n",
       "      <th>protein_version</th>\n",
       "      <th>seleno</th>\n",
       "      <th>transcript_biotype</th>\n",
       "      <th>transcript_id</th>\n",
       "      <th>transcript_name</th>\n",
       "      <th>transcript_source</th>\n",
       "      <th>transcript_support_level</th>\n",
       "      <th>transcript_version</th>\n",
       "    </tr>\n",
       "  </thead>\n",
       "  <tbody>\n",
       "    <tr>\n",
       "      <th>1812764</th>\n",
       "      <td>13</td>\n",
       "      <td>havana</td>\n",
       "      <td>exon</td>\n",
       "      <td>86275493</td>\n",
       "      <td>86276198</td>\n",
       "      <td>.</td>\n",
       "      <td>+</td>\n",
       "      <td>.</td>\n",
       "      <td>NaN</td>\n",
       "      <td>1.0</td>\n",
       "      <td>NaN</td>\n",
       "      <td>NaN</td>\n",
       "      <td>NaN</td>\n",
       "      <td>ENSE00003730567</td>\n",
       "      <td>1.0</td>\n",
       "      <td>1.0</td>\n",
       "      <td>processed_pseudogene</td>\n",
       "      <td>ENSG00000277914</td>\n",
       "      <td>DDX6P2</td>\n",
       "      <td>havana</td>\n",
       "      <td>1</td>\n",
       "      <td>NaN</td>\n",
       "      <td>NaN</td>\n",
       "      <td>NaN</td>\n",
       "      <td>NaN</td>\n",
       "      <td>NaN</td>\n",
       "      <td>processed_pseudogene</td>\n",
       "      <td>ENST00000619520</td>\n",
       "      <td>DDX6P2-201</td>\n",
       "      <td>havana</td>\n",
       "      <td>NaN</td>\n",
       "      <td>1.0</td>\n",
       "    </tr>\n",
       "    <tr>\n",
       "      <th>1812765</th>\n",
       "      <td>13</td>\n",
       "      <td>havana</td>\n",
       "      <td>exon</td>\n",
       "      <td>86276514</td>\n",
       "      <td>86277262</td>\n",
       "      <td>.</td>\n",
       "      <td>+</td>\n",
       "      <td>.</td>\n",
       "      <td>NaN</td>\n",
       "      <td>1.0</td>\n",
       "      <td>NaN</td>\n",
       "      <td>NaN</td>\n",
       "      <td>NaN</td>\n",
       "      <td>ENSE00003732061</td>\n",
       "      <td>2.0</td>\n",
       "      <td>1.0</td>\n",
       "      <td>processed_pseudogene</td>\n",
       "      <td>ENSG00000277914</td>\n",
       "      <td>DDX6P2</td>\n",
       "      <td>havana</td>\n",
       "      <td>1</td>\n",
       "      <td>NaN</td>\n",
       "      <td>NaN</td>\n",
       "      <td>NaN</td>\n",
       "      <td>NaN</td>\n",
       "      <td>NaN</td>\n",
       "      <td>processed_pseudogene</td>\n",
       "      <td>ENST00000619520</td>\n",
       "      <td>DDX6P2-201</td>\n",
       "      <td>havana</td>\n",
       "      <td>NaN</td>\n",
       "      <td>1.0</td>\n",
       "    </tr>\n",
       "  </tbody>\n",
       "</table>\n",
       "</div>"
      ],
      "text/plain": [
       "        seqname  source feature     start       end score strand frame  CCDS  basic ccds_id  cds_end_NF  cds_start_NF          exon_id  exon_number  exon_version          gene_biotype          gene_id gene_name gene_source  gene_version  mRNA_end_NF  mRNA_start_NF protein_id  protein_version  \\\n",
       "1812764  13      havana  exon    86275493  86276198  .     +      .    NaN    1.0    NaN    NaN         NaN            ENSE00003730567  1.0          1.0           processed_pseudogene  ENSG00000277914  DDX6P2    havana      1            NaN          NaN             NaN       NaN                \n",
       "1812765  13      havana  exon    86276514  86277262  .     +      .    NaN    1.0    NaN    NaN         NaN            ENSE00003732061  2.0          1.0           processed_pseudogene  ENSG00000277914  DDX6P2    havana      1            NaN          NaN             NaN       NaN                \n",
       "\n",
       "         seleno    transcript_biotype    transcript_id transcript_name transcript_source transcript_support_level  transcript_version  \n",
       "1812764 NaN      processed_pseudogene  ENST00000619520  DDX6P2-201      havana            NaN                      1.0                 \n",
       "1812765 NaN      processed_pseudogene  ENST00000619520  DDX6P2-201      havana            NaN                      1.0                 "
      ]
     },
     "execution_count": 16,
     "metadata": {},
     "output_type": "execute_result"
    }
   ],
   "source": [
    "bdf"
   ]
  },
  {
   "cell_type": "code",
   "execution_count": 22,
   "metadata": {},
   "outputs": [],
   "source": [
    "# ndf_gtf.query('gene_id == \"ENSG00000152332\"').transcript_biotype"
   ]
  },
  {
   "cell_type": "code",
   "execution_count": 23,
   "metadata": {},
   "outputs": [],
   "source": [
    "# ndf_gtf.query('gene_name == \"MDS2\"').transcript_biotype"
   ]
  },
  {
   "cell_type": "code",
   "execution_count": null,
   "metadata": {},
   "outputs": [],
   "source": []
  },
  {
   "cell_type": "code",
   "execution_count": null,
   "metadata": {},
   "outputs": [],
   "source": []
  },
  {
   "cell_type": "code",
   "execution_count": null,
   "metadata": {},
   "outputs": [],
   "source": []
  },
  {
   "cell_type": "code",
   "execution_count": null,
   "metadata": {},
   "outputs": [],
   "source": []
  },
  {
   "cell_type": "code",
   "execution_count": null,
   "metadata": {},
   "outputs": [],
   "source": []
  },
  {
   "cell_type": "code",
   "execution_count": null,
   "metadata": {},
   "outputs": [],
   "source": []
  },
  {
   "cell_type": "markdown",
   "metadata": {},
   "source": [
    "# distribution of the number of exons per transcript"
   ]
  },
  {
   "cell_type": "code",
   "execution_count": 56,
   "metadata": {},
   "outputs": [
    {
     "name": "stdout",
     "output_type": "stream",
     "text": [
      "CPU times: user 22 s, sys: 101 ms, total: 22.1 s\n",
      "Wall time: 22 s\n"
     ]
    }
   ],
   "source": [
    "%time df_exon_count = df_gtf.groupby('transcript_id').apply(lambda g: g.exon_id.unique().shape[0])"
   ]
  },
  {
   "cell_type": "code",
   "execution_count": 61,
   "metadata": {},
   "outputs": [
    {
     "data": {
      "text/plain": [
       "transcript_id\n",
       "ENST00000589042    364\n",
       "ENST00000591111    314\n",
       "ENST00000342992    313\n",
       "ENST00000615779    313\n",
       "ENST00000342175    192\n",
       "ENST00000460472    192\n",
       "ENST00000359218    192\n",
       "ENST00000618972    184\n",
       "ENST00000397345    183\n",
       "ENST00000427231    183\n",
       "dtype: int64"
      ]
     },
     "execution_count": 61,
     "metadata": {},
     "output_type": "execute_result"
    }
   ],
   "source": [
    "df_exon_count.sort_values(ascending=False).head(10)"
   ]
  },
  {
   "cell_type": "code",
   "execution_count": 59,
   "metadata": {},
   "outputs": [
    {
     "data": {
      "text/plain": [
       "count    203742.000000\n",
       "mean     6.552670     \n",
       "std      7.073174     \n",
       "min      1.000000     \n",
       "25%      2.000000     \n",
       "50%      5.000000     \n",
       "75%      8.000000     \n",
       "max      364.000000   \n",
       "dtype: float64"
      ]
     },
     "execution_count": 59,
     "metadata": {},
     "output_type": "execute_result"
    }
   ],
   "source": [
    "df_exon_count.describe()"
   ]
  },
  {
   "cell_type": "code",
   "execution_count": 58,
   "metadata": {},
   "outputs": [
    {
     "data": {
      "text/plain": [
       "Text(0.5,0,'# exons per transcript')"
      ]
     },
     "execution_count": 58,
     "metadata": {},
     "output_type": "execute_result"
    },
    {
     "data": {
      "image/png": "[encoded data removed]",
      "text/plain": [
       "<Figure size 432x288 with 1 Axes>"
      ]
     },
     "metadata": {
      "image/png": {
       "height": 270,
       "width": 406
      }
     },
     "output_type": "display_data"
    }
   ],
   "source": [
    "ax = df_exon_count.plot.hist(bins=np.arange(0, 30, 1))\n",
    "ax.grid()\n",
    "ax.set_xlabel('# exons per transcript')"
   ]
  },
  {
   "cell_type": "code",
   "execution_count": null,
   "metadata": {},
   "outputs": [],
   "source": []
  }
 ],
 "metadata": {
  "anaconda-cloud": {},
  "kernelspec": {
   "display_name": "Python 3",
   "language": "python",
   "name": "python3"
  },
  "language_info": {
   "codemirror_mode": {
    "name": "ipython",
    "version": 3
   },
   "file_extension": ".py",
   "mimetype": "text/x-python",
   "name": "python",
   "nbconvert_exporter": "python",
   "pygments_lexer": "ipython3",
   "version": "3.6.4"
  }
 },
 "nbformat": 4,
 "nbformat_minor": 1
}
