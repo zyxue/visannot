{
 "cells": [
  {
   "cell_type": "code",
   "execution_count": 1,
   "metadata": {},
   "outputs": [
    {
     "data": {
      "text/html": [
       "\n",
       "<style>\n",
       "   div#notebook-container    { width: 100%; }\n",
       "   div#menubar-container     { width: 100%; }\n",
       "   div#maintoolbar-container { width: 100%; }\n",
       "</style>\n"
      ],
      "text/plain": [
       "<IPython.core.display.HTML object>"
      ]
     },
     "metadata": {},
     "output_type": "display_data"
    }
   ],
   "source": [
    "from eda_imports import *\n",
    "\n",
    "import matplotlib.patches as patches"
   ]
  },
  {
   "cell_type": "markdown",
   "metadata": {},
   "source": [
    "### Load GTF"
   ]
  },
  {
   "cell_type": "code",
   "execution_count": 2,
   "metadata": {},
   "outputs": [
    {
     "name": "stdout",
     "output_type": "stream",
     "text": [
      "CPU times: user 1.39 s, sys: 776 ms, total: 2.17 s\n",
      "Wall time: 2.18 s\n"
     ]
    }
   ],
   "source": [
    "%time df_gtf = pd.read_pickle('/projects/btl2/zxue/gtf2csv/data/Homo_sapiens.GRCh38.92.pkl')"
   ]
  },
  {
   "cell_type": "code",
   "execution_count": 3,
   "metadata": {},
   "outputs": [],
   "source": [
    "ndf_gtf = df_gtf.query('feature != \"gene\"').query('feature != \"transcript\"').drop(['source', 'gene_source'], axis=1)"
   ]
  },
  {
   "cell_type": "markdown",
   "metadata": {},
   "source": [
    "# See how to common it is to have everything the same but 3' UTR for two transcripts"
   ]
  },
  {
   "cell_type": "code",
   "execution_count": 4,
   "metadata": {},
   "outputs": [
    {
     "data": {
      "text/html": [
       "<div>\n",
       "<style scoped>\n",
       "    .dataframe tbody tr th:only-of-type {\n",
       "        vertical-align: middle;\n",
       "    }\n",
       "\n",
       "    .dataframe tbody tr th {\n",
       "        vertical-align: top;\n",
       "    }\n",
       "\n",
       "    .dataframe thead th {\n",
       "        text-align: right;\n",
       "    }\n",
       "</style>\n",
       "<table border=\"1\" class=\"dataframe\">\n",
       "  <thead>\n",
       "    <tr style=\"text-align: right;\">\n",
       "      <th></th>\n",
       "      <th>seqname</th>\n",
       "      <th>feature</th>\n",
       "      <th>start</th>\n",
       "      <th>end</th>\n",
       "      <th>score</th>\n",
       "      <th>strand</th>\n",
       "      <th>frame</th>\n",
       "      <th>CCDS</th>\n",
       "      <th>basic</th>\n",
       "      <th>ccds_id</th>\n",
       "      <th>cds_end_NF</th>\n",
       "      <th>cds_start_NF</th>\n",
       "      <th>exon_id</th>\n",
       "      <th>exon_number</th>\n",
       "      <th>exon_version</th>\n",
       "      <th>gene_biotype</th>\n",
       "      <th>gene_id</th>\n",
       "      <th>gene_name</th>\n",
       "      <th>gene_version</th>\n",
       "      <th>mRNA_end_NF</th>\n",
       "      <th>mRNA_start_NF</th>\n",
       "      <th>protein_id</th>\n",
       "      <th>protein_version</th>\n",
       "      <th>seleno</th>\n",
       "      <th>transcript_biotype</th>\n",
       "      <th>transcript_id</th>\n",
       "      <th>transcript_name</th>\n",
       "      <th>transcript_source</th>\n",
       "      <th>transcript_support_level</th>\n",
       "      <th>transcript_version</th>\n",
       "    </tr>\n",
       "  </thead>\n",
       "  <tbody>\n",
       "    <tr>\n",
       "      <th>2</th>\n",
       "      <td>1</td>\n",
       "      <td>exon</td>\n",
       "      <td>11869</td>\n",
       "      <td>12227</td>\n",
       "      <td>.</td>\n",
       "      <td>+</td>\n",
       "      <td>.</td>\n",
       "      <td>NaN</td>\n",
       "      <td>1.0</td>\n",
       "      <td>NaN</td>\n",
       "      <td>NaN</td>\n",
       "      <td>NaN</td>\n",
       "      <td>ENSE00002234944</td>\n",
       "      <td>1.0</td>\n",
       "      <td>1.0</td>\n",
       "      <td>transcribed_unprocessed_pseudogene</td>\n",
       "      <td>ENSG00000223972</td>\n",
       "      <td>DDX11L1</td>\n",
       "      <td>5</td>\n",
       "      <td>NaN</td>\n",
       "      <td>NaN</td>\n",
       "      <td>NaN</td>\n",
       "      <td>NaN</td>\n",
       "      <td>NaN</td>\n",
       "      <td>processed_transcript</td>\n",
       "      <td>ENST00000456328</td>\n",
       "      <td>DDX11L1-202</td>\n",
       "      <td>havana</td>\n",
       "      <td>1</td>\n",
       "      <td>2.0</td>\n",
       "    </tr>\n",
       "    <tr>\n",
       "      <th>3</th>\n",
       "      <td>1</td>\n",
       "      <td>exon</td>\n",
       "      <td>12613</td>\n",
       "      <td>12721</td>\n",
       "      <td>.</td>\n",
       "      <td>+</td>\n",
       "      <td>.</td>\n",
       "      <td>NaN</td>\n",
       "      <td>1.0</td>\n",
       "      <td>NaN</td>\n",
       "      <td>NaN</td>\n",
       "      <td>NaN</td>\n",
       "      <td>ENSE00003582793</td>\n",
       "      <td>2.0</td>\n",
       "      <td>1.0</td>\n",
       "      <td>transcribed_unprocessed_pseudogene</td>\n",
       "      <td>ENSG00000223972</td>\n",
       "      <td>DDX11L1</td>\n",
       "      <td>5</td>\n",
       "      <td>NaN</td>\n",
       "      <td>NaN</td>\n",
       "      <td>NaN</td>\n",
       "      <td>NaN</td>\n",
       "      <td>NaN</td>\n",
       "      <td>processed_transcript</td>\n",
       "      <td>ENST00000456328</td>\n",
       "      <td>DDX11L1-202</td>\n",
       "      <td>havana</td>\n",
       "      <td>1</td>\n",
       "      <td>2.0</td>\n",
       "    </tr>\n",
       "  </tbody>\n",
       "</table>\n",
       "</div>"
      ],
      "text/plain": [
       "  seqname feature  start    end score strand frame  CCDS  basic ccds_id  cds_end_NF  cds_start_NF          exon_id  exon_number  exon_version                        gene_biotype          gene_id gene_name  gene_version  mRNA_end_NF  mRNA_start_NF protein_id  protein_version  seleno  \\\n",
       "2  1       exon    11869  12227  .     +      .    NaN    1.0    NaN    NaN         NaN            ENSE00002234944  1.0          1.0           transcribed_unprocessed_pseudogene  ENSG00000223972  DDX11L1   5            NaN          NaN             NaN       NaN              NaN       \n",
       "3  1       exon    12613  12721  .     +      .    NaN    1.0    NaN    NaN         NaN            ENSE00003582793  2.0          1.0           transcribed_unprocessed_pseudogene  ENSG00000223972  DDX11L1   5            NaN          NaN             NaN       NaN              NaN       \n",
       "\n",
       "     transcript_biotype    transcript_id transcript_name transcript_source transcript_support_level  transcript_version  \n",
       "2  processed_transcript  ENST00000456328  DDX11L1-202     havana            1                        2.0                 \n",
       "3  processed_transcript  ENST00000456328  DDX11L1-202     havana            1                        2.0                 "
      ]
     },
     "execution_count": 4,
     "metadata": {},
     "output_type": "execute_result"
    }
   ],
   "source": [
    "ndf_gtf.head(2)"
   ]
  },
  {
   "cell_type": "code",
   "execution_count": 5,
   "metadata": {},
   "outputs": [
    {
     "data": {
      "text/plain": [
       "exon               1237303\n",
       "CDS                734649 \n",
       "five_prime_utr     147919 \n",
       "three_prime_utr    144546 \n",
       "start_codon        85453  \n",
       "stop_codon         77440  \n",
       "Selenocysteine     119    \n",
       "Name: feature, dtype: int64"
      ]
     },
     "execution_count": 5,
     "metadata": {},
     "output_type": "execute_result"
    }
   ],
   "source": [
    "ndf_gtf.feature.value_counts()"
   ]
  },
  {
   "cell_type": "code",
   "execution_count": 6,
   "metadata": {},
   "outputs": [],
   "source": [
    "assert df_gtf.gene_id.unique().shape[0] == df_gtf[['gene_id', 'gene_biotype']].drop_duplicates().shape[0]"
   ]
  },
  {
   "cell_type": "code",
   "execution_count": 9,
   "metadata": {},
   "outputs": [],
   "source": [
    "def count_transcripts_with_identical_cds(grp):\n",
    "    \"\"\"grp: grouped by gene_id\"\"\"\n",
    "    cds_list = []\n",
    "    for k, g in grp.query('transcript_biotype == \"protein_coding\"').groupby('transcript_id'):\n",
    "        cds_start_end_pairs = g.query('feature == \"CDS\"')[['start', 'end']].sort_values(['start', 'end']).values.tolist()\n",
    "        cds_start_end_pairs_str = str(cds_start_end_pairs)\n",
    "        cds_list.append(cds_start_end_pairs_str)\n",
    "    return pd.Series(cds_list).value_counts().max()"
   ]
  },
  {
   "cell_type": "code",
   "execution_count": 10,
   "metadata": {},
   "outputs": [
    {
     "name": "stderr",
     "output_type": "stream",
     "text": [
      "\n",
      "  0%|          | 0/58395 [00:00<?, ?it/s]\u001b[A\n",
      "  0%|          | 1/58395 [00:01<32:11:41,  1.98s/it]\u001b[A\n",
      "  1%|          | 525/58395 [00:02<03:49, 251.80it/s]\u001b[A\n",
      "  2%|▏         | 1056/58395 [00:02<01:58, 483.40it/s]\u001b[A\n",
      "  2%|▏         | 1449/58395 [00:02<01:29, 634.24it/s]\u001b[A\n",
      "  3%|▎         | 1960/58395 [00:02<01:08, 821.94it/s]\u001b[A\n",
      "  4%|▍         | 2510/58395 [00:02<00:55, 1010.21it/s]\u001b[A\n",
      "  5%|▌         | 3063/58395 [00:02<00:46, 1184.72it/s]\u001b[A\n",
      "  6%|▌         | 3597/58395 [00:02<00:40, 1339.54it/s]\u001b[A\n",
      "  7%|▋         | 4137/58395 [00:02<00:36, 1485.19it/s]\u001b[A\n",
      "  8%|▊         | 4675/58395 [00:02<00:33, 1620.03it/s]\u001b[A\n",
      "  9%|▉         | 5211/58395 [00:02<00:30, 1745.29it/s]\u001b[A\n",
      " 10%|▉         | 5730/58395 [00:03<00:28, 1832.50it/s]\u001b[A\n",
      " 11%|█         | 6230/58395 [00:03<00:27, 1930.80it/s]\u001b[A\n",
      " 12%|█▏        | 6750/58395 [00:03<00:25, 2029.14it/s]\u001b[A\n",
      " 12%|█▏        | 7267/58395 [00:03<00:24, 2120.59it/s]\u001b[A\n",
      " 13%|█▎        | 7774/58395 [00:03<00:22, 2204.20it/s]\u001b[A\n",
      " 14%|█▍        | 8276/58395 [00:03<00:22, 2276.95it/s]\u001b[A\n",
      " 15%|█▌        | 8773/58395 [00:03<00:21, 2349.02it/s]\u001b[A\n",
      " 16%|█▌        | 9280/58395 [00:03<00:20, 2419.91it/s]\u001b[A\n",
      " 17%|█▋        | 9784/58395 [00:03<00:19, 2486.46it/s]\u001b[A\n",
      " 18%|█▊        | 10292/58395 [00:04<00:18, 2550.61it/s]\u001b[A\n",
      " 18%|█▊        | 10796/58395 [00:04<00:18, 2610.97it/s]\u001b[A\n",
      " 19%|█▉        | 11308/58395 [00:04<00:17, 2670.18it/s]\u001b[A\n",
      " 20%|██        | 11827/58395 [00:04<00:17, 2728.22it/s]\u001b[A\n",
      " 21%|██        | 12337/58395 [00:04<00:16, 2758.44it/s]\u001b[A\n",
      " 22%|██▏       | 12857/58395 [00:04<00:16, 2811.86it/s]\u001b[A\n",
      " 23%|██▎       | 13376/58395 [00:04<00:15, 2862.64it/s]\u001b[A\n",
      " 24%|██▍       | 13894/58395 [00:04<00:15, 2911.17it/s]\u001b[A\n",
      " 25%|██▍       | 14422/58395 [00:04<00:14, 2959.62it/s]\u001b[A\n",
      " 26%|██▌       | 14939/58395 [00:04<00:14, 3004.11it/s]\u001b[A\n",
      " 26%|██▋       | 15464/58395 [00:05<00:14, 3048.25it/s]\u001b[A\n",
      " 27%|██▋       | 15988/58395 [00:05<00:13, 3090.53it/s]\u001b[A\n",
      " 28%|██▊       | 16507/58395 [00:05<00:13, 3130.51it/s]\u001b[A\n",
      " 29%|██▉       | 17025/58395 [00:05<00:13, 3168.26it/s]\u001b[A\n",
      " 30%|███       | 17542/58395 [00:05<00:12, 3204.71it/s]\u001b[A\n",
      " 31%|███       | 18063/58395 [00:05<00:12, 3240.43it/s]\u001b[A\n",
      " 32%|███▏      | 18583/58395 [00:05<00:12, 3275.06it/s]\u001b[A\n",
      " 33%|███▎      | 19110/58395 [00:05<00:11, 3309.38it/s]\u001b[A\n",
      " 34%|███▎      | 19636/58395 [00:05<00:11, 3342.67it/s]\u001b[A\n",
      " 35%|███▍      | 20159/58395 [00:05<00:11, 3373.68it/s]\u001b[A\n",
      " 35%|███▌      | 20687/58395 [00:06<00:11, 3404.99it/s]\u001b[A\n",
      " 36%|███▋      | 21211/58395 [00:06<00:10, 3433.83it/s]\u001b[A\n",
      " 37%|███▋      | 21733/58395 [00:06<00:10, 3462.30it/s]\u001b[A\n",
      " 38%|███▊      | 22255/58395 [00:06<00:10, 3489.59it/s]\u001b[A\n",
      " 39%|███▉      | 22778/58395 [00:06<00:10, 3516.48it/s]\u001b[A\n",
      " 40%|███▉      | 23300/58395 [00:06<00:09, 3542.40it/s]\u001b[A\n",
      " 41%|████      | 23823/58395 [00:06<00:09, 3567.47it/s]\u001b[A\n",
      " 42%|████▏     | 24347/58395 [00:06<00:09, 3592.08it/s]\u001b[A\n",
      " 43%|████▎     | 24870/58395 [00:06<00:09, 3587.42it/s]\u001b[A\n",
      " 43%|████▎     | 25337/58395 [00:07<00:09, 3602.06it/s]\u001b[A\n",
      " 44%|████▍     | 25856/58395 [00:07<00:08, 3624.22it/s]\u001b[A\n",
      " 45%|████▌     | 26355/58395 [00:07<00:08, 3643.11it/s]\u001b[A\n",
      " 46%|████▌     | 26872/58395 [00:07<00:08, 3663.88it/s]\u001b[A\n",
      " 47%|████▋     | 27402/58395 [00:07<00:08, 3685.67it/s]\u001b[A\n",
      " 48%|████▊     | 27911/58395 [00:07<00:08, 3704.43it/s]\u001b[A\n",
      " 49%|████▊     | 28418/58395 [00:07<00:08, 3721.55it/s]\u001b[A\n",
      " 50%|████▉     | 28932/58395 [00:07<00:07, 3739.71it/s]\u001b[A\n",
      " 50%|█████     | 29439/58395 [00:07<00:07, 3754.99it/s]\u001b[A\n",
      " 51%|█████▏    | 29950/58395 [00:07<00:07, 3772.06it/s]\u001b[A\n",
      " 52%|█████▏    | 30470/58395 [00:08<00:07, 3789.67it/s]\u001b[A\n",
      " 53%|█████▎    | 30994/58395 [00:08<00:07, 3807.53it/s]\u001b[A\n",
      " 54%|█████▍    | 31508/58395 [00:08<00:07, 3823.09it/s]\u001b[A\n",
      " 55%|█████▍    | 32023/58395 [00:08<00:06, 3838.84it/s]\u001b[A\n",
      " 56%|█████▌    | 32537/58395 [00:08<00:06, 3854.37it/s]\u001b[A\n",
      " 57%|█████▋    | 33056/58395 [00:08<00:06, 3869.89it/s]\u001b[A\n",
      " 58%|█████▊    | 33578/58395 [00:08<00:06, 3885.41it/s]\u001b[A\n",
      " 58%|█████▊    | 34095/58395 [00:08<00:06, 3899.87it/s]\u001b[A\n",
      " 59%|█████▉    | 34622/58395 [00:08<00:06, 3915.29it/s]\u001b[A\n",
      " 60%|██████    | 35141/58395 [00:09<00:06, 3799.56it/s]\u001b[A\n",
      " 61%|██████    | 35662/58395 [00:09<00:05, 3814.56it/s]\u001b[A\n",
      " 62%|██████▏   | 36176/58395 [00:09<00:05, 3828.67it/s]\u001b[A\n",
      " 63%|██████▎   | 36699/58395 [00:09<00:05, 3843.13it/s]\u001b[A\n",
      " 64%|██████▎   | 37220/58395 [00:09<00:05, 3857.35it/s]\u001b[A\n",
      " 65%|██████▍   | 37734/58395 [00:09<00:05, 3870.47it/s]\u001b[A\n",
      " 65%|██████▌   | 38233/58395 [00:09<00:05, 3880.29it/s]\u001b[A\n",
      " 66%|██████▋   | 38726/58395 [00:09<00:05, 3888.21it/s]\u001b[A\n",
      " 67%|██████▋   | 39257/58395 [00:10<00:04, 3902.30it/s]\u001b[A\n",
      " 68%|██████▊   | 39755/58395 [00:10<00:04, 3908.68it/s]\u001b[A\n",
      " 69%|██████▉   | 40253/58395 [00:10<00:04, 3905.89it/s]\u001b[A\n",
      " 70%|██████▉   | 40767/58395 [00:10<00:04, 3917.75it/s]\u001b[A\n",
      " 71%|███████   | 41278/58395 [00:10<00:04, 3928.40it/s]\u001b[A\n",
      " 72%|███████▏  | 41784/58395 [00:10<00:04, 3939.12it/s]\u001b[A\n",
      " 72%|███████▏  | 42305/58395 [00:10<00:04, 3950.98it/s]\u001b[A\n",
      " 73%|███████▎  | 42818/58395 [00:10<00:03, 3961.89it/s]\u001b[A\n",
      " 21%|██        | 12105/58395 [00:24<01:33, 496.33it/s] \u001b[A\n",
      " 75%|███████▌  | 43834/58395 [00:11<00:03, 3981.46it/s]\u001b[A\n",
      " 76%|███████▌  | 44351/58395 [00:11<00:03, 3992.14it/s]\u001b[A\n",
      " 77%|███████▋  | 44858/58395 [00:11<00:03, 3999.71it/s]\u001b[A\n",
      " 78%|███████▊  | 45357/58395 [00:11<00:03, 4007.39it/s]\u001b[A\n",
      " 79%|███████▊  | 45851/58395 [00:11<00:03, 4009.33it/s]\u001b[A\n",
      " 79%|███████▉  | 46323/58395 [00:11<00:03, 4008.59it/s]\u001b[A\n",
      " 80%|████████  | 46799/58395 [00:11<00:02, 4015.02it/s]\u001b[A\n",
      " 81%|████████  | 47305/58395 [00:11<00:02, 4023.85it/s]\u001b[A\n",
      " 82%|████████▏ | 47789/58395 [00:11<00:02, 4030.70it/s]\u001b[A\n",
      " 83%|████████▎ | 48264/58395 [00:12<00:02, 3925.63it/s]\u001b[A\n",
      " 84%|████████▎ | 48767/58395 [00:12<00:02, 3934.51it/s]\u001b[A\n",
      " 84%|████████▍ | 49263/58395 [00:12<00:02, 3942.74it/s]\u001b[A\n",
      " 85%|████████▌ | 49751/58395 [00:12<00:02, 3950.13it/s]\u001b[A\n",
      " 86%|████████▌ | 50254/58395 [00:12<00:02, 3958.67it/s]\u001b[A\n",
      " 87%|████████▋ | 50721/58395 [00:12<00:01, 3963.68it/s]\u001b[A\n",
      " 88%|████████▊ | 51188/58395 [00:12<00:01, 3969.57it/s]\u001b[A\n",
      " 88%|████████▊ | 51663/58395 [00:12<00:01, 3975.55it/s]\u001b[A\n",
      " 89%|████████▉ | 52134/58395 [00:13<00:01, 3981.12it/s]\u001b[A\n",
      " 90%|█████████ | 52616/58395 [00:13<00:01, 3987.43it/s]\u001b[A\n",
      " 91%|█████████ | 53109/58395 [00:13<00:01, 3994.49it/s]\u001b[A\n",
      " 92%|█████████▏| 53588/58395 [00:13<00:01, 3990.34it/s]\u001b[A\n",
      " 93%|█████████▎| 54058/58395 [00:13<00:01, 3995.54it/s]\u001b[A\n",
      " 93%|█████████▎| 54539/58395 [00:13<00:00, 3997.93it/s]\u001b[A\n",
      " 94%|█████████▍| 54999/58395 [00:13<00:00, 3999.83it/s]\u001b[A\n",
      " 95%|█████████▍| 55451/58395 [00:13<00:00, 4003.38it/s]\u001b[A\n",
      " 96%|█████████▌| 55939/58395 [00:13<00:00, 4009.80it/s]\u001b[A\n",
      " 97%|█████████▋| 56435/58395 [00:14<00:00, 4016.61it/s]\u001b[A\n",
      " 98%|█████████▊| 56937/58395 [00:14<00:00, 4023.64it/s]\u001b[A\n",
      " 98%|█████████▊| 57415/58395 [00:14<00:00, 4027.64it/s]\u001b[A\n",
      " 99%|█████████▉| 57909/58395 [00:14<00:00, 4034.00it/s]\u001b[A\n",
      "100%|█████████▉| 58387/58395 [00:14<00:00, 4034.48it/s]\u001b[A\n",
      "100%|██████████| 58395/58395 [00:14<00:00, 4033.47it/s]\u001b[A"
     ]
    }
   ],
   "source": [
    "keys, args = [], []\n",
    "grp_by_cols = ['gene_name', 'gene_id', 'gene_biotype']\n",
    "for k, grp in tqdm(ndf_gtf.groupby(grp_by_cols)):\n",
    "    keys.append(k)\n",
    "    args.append(grp)"
   ]
  },
  {
   "cell_type": "code",
   "execution_count": 11,
   "metadata": {},
   "outputs": [
    {
     "name": "stdout",
     "output_type": "stream",
     "text": [
      "CPU times: user 21.6 s, sys: 6.14 s, total: 27.7 s\n",
      "Wall time: 39.7 s\n"
     ]
    }
   ],
   "source": [
    "%%time\n",
    "with multiprocessing.Pool(50) as p:\n",
    "    res = p.map(count_transcripts_with_identical_cds, args)"
   ]
  },
  {
   "cell_type": "code",
   "execution_count": 12,
   "metadata": {},
   "outputs": [],
   "source": [
    "# number of genes with transcripts that share identical cds regions\n",
    "df_count = pd.DataFrame(keys, columns=grp_by_cols)"
   ]
  },
  {
   "cell_type": "code",
   "execution_count": 13,
   "metadata": {},
   "outputs": [],
   "source": [
    "df_count['num'] = res"
   ]
  },
  {
   "cell_type": "code",
   "execution_count": 14,
   "metadata": {},
   "outputs": [
    {
     "data": {
      "text/html": [
       "<div>\n",
       "<style scoped>\n",
       "    .dataframe tbody tr th:only-of-type {\n",
       "        vertical-align: middle;\n",
       "    }\n",
       "\n",
       "    .dataframe tbody tr th {\n",
       "        vertical-align: top;\n",
       "    }\n",
       "\n",
       "    .dataframe thead th {\n",
       "        text-align: right;\n",
       "    }\n",
       "</style>\n",
       "<table border=\"1\" class=\"dataframe\">\n",
       "  <thead>\n",
       "    <tr style=\"text-align: right;\">\n",
       "      <th></th>\n",
       "      <th>gene_name</th>\n",
       "      <th>gene_id</th>\n",
       "      <th>gene_biotype</th>\n",
       "      <th>num</th>\n",
       "    </tr>\n",
       "  </thead>\n",
       "  <tbody>\n",
       "    <tr>\n",
       "      <th>0</th>\n",
       "      <td>A1BG</td>\n",
       "      <td>ENSG00000121410</td>\n",
       "      <td>protein_coding</td>\n",
       "      <td>1.0</td>\n",
       "    </tr>\n",
       "    <tr>\n",
       "      <th>1</th>\n",
       "      <td>A1BG-AS1</td>\n",
       "      <td>ENSG00000268895</td>\n",
       "      <td>antisense</td>\n",
       "      <td>NaN</td>\n",
       "    </tr>\n",
       "    <tr>\n",
       "      <th>2</th>\n",
       "      <td>A1CF</td>\n",
       "      <td>ENSG00000148584</td>\n",
       "      <td>protein_coding</td>\n",
       "      <td>3.0</td>\n",
       "    </tr>\n",
       "    <tr>\n",
       "      <th>3</th>\n",
       "      <td>A2M</td>\n",
       "      <td>ENSG00000175899</td>\n",
       "      <td>protein_coding</td>\n",
       "      <td>1.0</td>\n",
       "    </tr>\n",
       "    <tr>\n",
       "      <th>4</th>\n",
       "      <td>A2M-AS1</td>\n",
       "      <td>ENSG00000245105</td>\n",
       "      <td>antisense</td>\n",
       "      <td>NaN</td>\n",
       "    </tr>\n",
       "  </tbody>\n",
       "</table>\n",
       "</div>"
      ],
      "text/plain": [
       "  gene_name          gene_id    gene_biotype  num\n",
       "0  A1BG      ENSG00000121410  protein_coding  1.0\n",
       "1  A1BG-AS1  ENSG00000268895  antisense      NaN \n",
       "2  A1CF      ENSG00000148584  protein_coding  3.0\n",
       "3  A2M       ENSG00000175899  protein_coding  1.0\n",
       "4  A2M-AS1   ENSG00000245105  antisense      NaN "
      ]
     },
     "execution_count": 14,
     "metadata": {},
     "output_type": "execute_result"
    }
   ],
   "source": [
    "df_count.head()"
   ]
  },
  {
   "cell_type": "code",
   "execution_count": 15,
   "metadata": {},
   "outputs": [
    {
     "data": {
      "text/plain": [
       "(5584, 4)"
      ]
     },
     "execution_count": 15,
     "metadata": {},
     "output_type": "execute_result"
    }
   ],
   "source": [
    "df_count.query('gene_biotype == \"protein_coding\"').query('num > 1').shape"
   ]
  },
  {
   "cell_type": "code",
   "execution_count": 16,
   "metadata": {},
   "outputs": [
    {
     "data": {
      "text/plain": [
       "0.2804339092004821"
      ]
     },
     "execution_count": 16,
     "metadata": {},
     "output_type": "execute_result"
    }
   ],
   "source": [
    "5584 / 19912"
   ]
  },
  {
   "cell_type": "markdown",
   "metadata": {},
   "source": [
    "So 28% of the genes have protein_coding transcripts sharing identical CDS"
   ]
  },
  {
   "cell_type": "code",
   "execution_count": 17,
   "metadata": {},
   "outputs": [],
   "source": [
    "ndf_count = df_count.query('gene_biotype == \"protein_coding\"')"
   ]
  },
  {
   "cell_type": "code",
   "execution_count": 19,
   "metadata": {},
   "outputs": [
    {
     "data": {
      "text/html": [
       "<div>\n",
       "<style scoped>\n",
       "    .dataframe tbody tr th:only-of-type {\n",
       "        vertical-align: middle;\n",
       "    }\n",
       "\n",
       "    .dataframe tbody tr th {\n",
       "        vertical-align: top;\n",
       "    }\n",
       "\n",
       "    .dataframe thead th {\n",
       "        text-align: right;\n",
       "    }\n",
       "</style>\n",
       "<table border=\"1\" class=\"dataframe\">\n",
       "  <thead>\n",
       "    <tr style=\"text-align: right;\">\n",
       "      <th></th>\n",
       "      <th>gene_name</th>\n",
       "      <th>gene_id</th>\n",
       "      <th>gene_biotype</th>\n",
       "      <th>num</th>\n",
       "    </tr>\n",
       "  </thead>\n",
       "  <tbody>\n",
       "    <tr>\n",
       "      <th>52971</th>\n",
       "      <td>SPG7</td>\n",
       "      <td>ENSG00000197912</td>\n",
       "      <td>protein_coding</td>\n",
       "      <td>1.0</td>\n",
       "    </tr>\n",
       "  </tbody>\n",
       "</table>\n",
       "</div>"
      ],
      "text/plain": [
       "      gene_name          gene_id    gene_biotype  num\n",
       "52971  SPG7      ENSG00000197912  protein_coding  1.0"
      ]
     },
     "execution_count": 19,
     "metadata": {},
     "output_type": "execute_result"
    }
   ],
   "source": [
    "ndf_count.query('gene_name == \"SPG7\"')"
   ]
  },
  {
   "cell_type": "code",
   "execution_count": 54,
   "metadata": {},
   "outputs": [
    {
     "data": {
      "text/html": [
       "<div>\n",
       "<style scoped>\n",
       "    .dataframe tbody tr th:only-of-type {\n",
       "        vertical-align: middle;\n",
       "    }\n",
       "\n",
       "    .dataframe tbody tr th {\n",
       "        vertical-align: top;\n",
       "    }\n",
       "\n",
       "    .dataframe thead th {\n",
       "        text-align: right;\n",
       "    }\n",
       "</style>\n",
       "<table border=\"1\" class=\"dataframe\">\n",
       "  <thead>\n",
       "    <tr style=\"text-align: right;\">\n",
       "      <th></th>\n",
       "      <th>gene_name</th>\n",
       "      <th>gene_id</th>\n",
       "      <th>gene_biotype</th>\n",
       "      <th>num</th>\n",
       "    </tr>\n",
       "  </thead>\n",
       "  <tbody>\n",
       "    <tr>\n",
       "      <th>24023</th>\n",
       "      <td>CTNNB1</td>\n",
       "      <td>ENSG00000168036</td>\n",
       "      <td>protein_coding</td>\n",
       "      <td>24.0</td>\n",
       "    </tr>\n",
       "    <tr>\n",
       "      <th>51819</th>\n",
       "      <td>SLC6A1</td>\n",
       "      <td>ENSG00000157103</td>\n",
       "      <td>protein_coding</td>\n",
       "      <td>19.0</td>\n",
       "    </tr>\n",
       "    <tr>\n",
       "      <th>34586</th>\n",
       "      <td>MAPK10</td>\n",
       "      <td>ENSG00000109339</td>\n",
       "      <td>protein_coding</td>\n",
       "      <td>18.0</td>\n",
       "    </tr>\n",
       "    <tr>\n",
       "      <th>37349</th>\n",
       "      <td>MRPL55</td>\n",
       "      <td>ENSG00000162910</td>\n",
       "      <td>protein_coding</td>\n",
       "      <td>16.0</td>\n",
       "    </tr>\n",
       "    <tr>\n",
       "      <th>20691</th>\n",
       "      <td>BDNF</td>\n",
       "      <td>ENSG00000176697</td>\n",
       "      <td>protein_coding</td>\n",
       "      <td>14.0</td>\n",
       "    </tr>\n",
       "    <tr>\n",
       "      <th>18375</th>\n",
       "      <td>ANAPC11</td>\n",
       "      <td>ENSG00000141552</td>\n",
       "      <td>protein_coding</td>\n",
       "      <td>13.0</td>\n",
       "    </tr>\n",
       "    <tr>\n",
       "      <th>57469</th>\n",
       "      <td>ZBTB7C</td>\n",
       "      <td>ENSG00000184828</td>\n",
       "      <td>protein_coding</td>\n",
       "      <td>12.0</td>\n",
       "    </tr>\n",
       "    <tr>\n",
       "      <th>27941</th>\n",
       "      <td>GJB6</td>\n",
       "      <td>ENSG00000121742</td>\n",
       "      <td>protein_coding</td>\n",
       "      <td>11.0</td>\n",
       "    </tr>\n",
       "    <tr>\n",
       "      <th>26144</th>\n",
       "      <td>ESRRG</td>\n",
       "      <td>ENSG00000196482</td>\n",
       "      <td>protein_coding</td>\n",
       "      <td>11.0</td>\n",
       "    </tr>\n",
       "    <tr>\n",
       "      <th>21641</th>\n",
       "      <td>C6orf48</td>\n",
       "      <td>ENSG00000204387</td>\n",
       "      <td>protein_coding</td>\n",
       "      <td>10.0</td>\n",
       "    </tr>\n",
       "  </tbody>\n",
       "</table>\n",
       "</div>"
      ],
      "text/plain": [
       "      gene_name          gene_id    gene_biotype   num\n",
       "24023  CTNNB1    ENSG00000168036  protein_coding  24.0\n",
       "51819  SLC6A1    ENSG00000157103  protein_coding  19.0\n",
       "34586  MAPK10    ENSG00000109339  protein_coding  18.0\n",
       "37349  MRPL55    ENSG00000162910  protein_coding  16.0\n",
       "20691  BDNF      ENSG00000176697  protein_coding  14.0\n",
       "18375  ANAPC11   ENSG00000141552  protein_coding  13.0\n",
       "57469  ZBTB7C    ENSG00000184828  protein_coding  12.0\n",
       "27941  GJB6      ENSG00000121742  protein_coding  11.0\n",
       "26144  ESRRG     ENSG00000196482  protein_coding  11.0\n",
       "21641  C6orf48   ENSG00000204387  protein_coding  10.0"
      ]
     },
     "execution_count": 54,
     "metadata": {},
     "output_type": "execute_result"
    }
   ],
   "source": [
    "ndf_count.sort_values('num', ascending=False).head(10)"
   ]
  },
  {
   "cell_type": "code",
   "execution_count": null,
   "metadata": {},
   "outputs": [],
   "source": []
  },
  {
   "cell_type": "code",
   "execution_count": null,
   "metadata": {},
   "outputs": [],
   "source": []
  },
  {
   "cell_type": "markdown",
   "metadata": {},
   "source": [
    "# Debug"
   ]
  },
  {
   "cell_type": "code",
   "execution_count": 49,
   "metadata": {},
   "outputs": [],
   "source": [
    "lele = ndf_gtf.query('gene_name == \"SLC6A1\"')"
   ]
  },
  {
   "cell_type": "code",
   "execution_count": 50,
   "metadata": {},
   "outputs": [],
   "source": [
    "cds_list = []\n",
    "# for k, g in lele.query('transcript_biotype == \"protein_coding\"').groupby('transcript_id'):\n",
    "for k, g in lele.groupby('transcript_id'):\n",
    "    assert g.transcript_id.unique().shape[0] == 1\n",
    "    assert g.transcript_biotype.unique().shape[0] == 1\n",
    "    transcript_id = g.transcript_id.unique()[0]\n",
    "    transcript_biotype = g.transcript_biotype.unique()[0]\n",
    "    \n",
    "    cds_start_end_pairs = g.query('feature == \"CDS\"')[['start', 'end']].sort_values(['start', 'end']).values.tolist()\n",
    "    cds_start_end_pairs_str = str(cds_start_end_pairs)\n",
    "    cds_list.append((transcript_id, transcript_biotype, hash(cds_start_end_pairs_str)))\n",
    "# pd.Series(cds_list).value_counts().max()"
   ]
  },
  {
   "cell_type": "code",
   "execution_count": 51,
   "metadata": {},
   "outputs": [],
   "source": [
    "df_cds_list = pd.DataFrame(cds_list, columns=['transcript_id', 'transcript_biotype', 'cds_hash'])"
   ]
  },
  {
   "cell_type": "code",
   "execution_count": 52,
   "metadata": {},
   "outputs": [
    {
     "data": {
      "text/plain": [
       "(41,)"
      ]
     },
     "execution_count": 52,
     "metadata": {},
     "output_type": "execute_result"
    }
   ],
   "source": [
    "df_cds_list.transcript_id.unique().shape"
   ]
  },
  {
   "cell_type": "code",
   "execution_count": 53,
   "metadata": {},
   "outputs": [
    {
     "data": {
      "text/plain": [
       "cds_hash\n",
       "-7669697834645599824    ([protein_coding], 19, [ENST00000287766, ENST00000642201, ENST00000642515, ENST00000642639, ENST00000642735, ENST00000642767, ENST00000642820, ENST00000643396, ENST00000643498, ENST00000645029, ENST00000645054, ENST00000645592, ENST00000645974, ENST00000646022, ENST00000646060, ENST00000646570, ENST00000646702, ENST00000646924, ENST00000647194])\n",
       "-6821238873617149842    ([protein_coding], 1, [ENST00000646487])                                                                                                                                                                                                                                                                                                                   \n",
       "-5675111249409555424    ([protein_coding], 1, [ENST00000647384])                                                                                                                                                                                                                                                                                                                   \n",
       "-4411039476596772379    ([protein_coding], 1, [ENST00000425938])                                                                                                                                                                                                                                                                                                                   \n",
       "-4151402287683859560    ([nonsense_mediated_decay], 1, [ENST00000643326])                                                                                                                                                                                                                                                                                                          \n",
       "-3373145668790875736    ([protein_coding], 3, [ENST00000645281, ENST00000645776, ENST00000646072])                                                                                                                                                                                                                                                                                 \n",
       "-674280481879939263     ([nonsense_mediated_decay], 1, [ENST00000645575])                                                                                                                                                                                                                                                                                                          \n",
       " 1344219953895068423    ([protein_coding], 2, [ENST00000644175, ENST00000646088])                                                                                                                                                                                                                                                                                                  \n",
       " 1745940179560151954    ([protein_coding], 1, [ENST00000645985])                                                                                                                                                                                                                                                                                                                   \n",
       " 4382188721390281696    ([protein_coding], 1, [ENST00000644314])                                                                                                                                                                                                                                                                                                                   \n",
       " 5456093176364117761    ([nonsense_mediated_decay], 1, [ENST00000460480])                                                                                                                                                                                                                                                                                                          \n",
       " 6759538173797364868    ([protein_coding], 1, [ENST00000644803])                                                                                                                                                                                                                                                                                                                   \n",
       " 8811863679713585648    ([retained_intron], 8, [ENST00000462473, ENST00000495636, ENST00000642766, ENST00000642831, ENST00000645598, ENST00000646035, ENST00000646836, ENST00000646886])                                                                                                                                                                                           \n",
       "dtype: object"
      ]
     },
     "execution_count": 53,
     "metadata": {},
     "output_type": "execute_result"
    }
   ],
   "source": [
    "df_cds_list.groupby('cds_hash').apply(lambda g: (g.transcript_biotype.unique(), g.shape[0], g.transcript_id.unique()))"
   ]
  },
  {
   "cell_type": "code",
   "execution_count": null,
   "metadata": {},
   "outputs": [],
   "source": []
  },
  {
   "cell_type": "code",
   "execution_count": null,
   "metadata": {},
   "outputs": [],
   "source": []
  },
  {
   "cell_type": "code",
   "execution_count": null,
   "metadata": {},
   "outputs": [],
   "source": []
  },
  {
   "cell_type": "code",
   "execution_count": null,
   "metadata": {},
   "outputs": [],
   "source": []
  },
  {
   "cell_type": "code",
   "execution_count": null,
   "metadata": {},
   "outputs": [],
   "source": []
  },
  {
   "cell_type": "code",
   "execution_count": null,
   "metadata": {},
   "outputs": [],
   "source": []
  },
  {
   "cell_type": "code",
   "execution_count": null,
   "metadata": {},
   "outputs": [],
   "source": []
  },
  {
   "cell_type": "code",
   "execution_count": 22,
   "metadata": {},
   "outputs": [],
   "source": [
    "lele = ndf_gtf.query('gene_name == \"SPG7\"')"
   ]
  },
  {
   "cell_type": "code",
   "execution_count": 33,
   "metadata": {},
   "outputs": [],
   "source": [
    "cds_list = []\n",
    "# for k, g in lele.query('transcript_biotype == \"protein_coding\"').groupby('transcript_id'):\n",
    "for k, g in lele.groupby('transcript_id'):\n",
    "    assert g.transcript_id.unique().shape[0] == 1\n",
    "    assert g.transcript_biotype.unique().shape[0] == 1\n",
    "    transcript_id = g.transcript_id.unique()[0]\n",
    "    transcript_biotype = g.transcript_biotype.unique()[0]\n",
    "    \n",
    "    cds_start_end_pairs = g.query('feature == \"CDS\"')[['start', 'end']].sort_values(['start', 'end']).values.tolist()\n",
    "    cds_start_end_pairs_str = str(cds_start_end_pairs)\n",
    "    cds_list.append((transcript_id, transcript_biotype, hash(cds_start_end_pairs_str)))\n",
    "# pd.Series(cds_list).value_counts().max()"
   ]
  },
  {
   "cell_type": "code",
   "execution_count": 36,
   "metadata": {},
   "outputs": [],
   "source": [
    "df_cds_list = pd.DataFrame(cds_list, columns=['transcript_id', 'transcript_biotype', 'cds_hash'])"
   ]
  },
  {
   "cell_type": "code",
   "execution_count": 39,
   "metadata": {},
   "outputs": [
    {
     "data": {
      "text/plain": [
       "(96,)"
      ]
     },
     "execution_count": 39,
     "metadata": {},
     "output_type": "execute_result"
    }
   ],
   "source": [
    "df_cds_list.transcript_id.unique().shape"
   ]
  },
  {
   "cell_type": "code",
   "execution_count": 42,
   "metadata": {},
   "outputs": [
    {
     "data": {
      "text/plain": [
       "cds_hash\n",
       "-8977407504005217083    ([nonsense_mediated_decay], 1)                \n",
       "-8496234967062161228    ([nonsense_mediated_decay], 1)                \n",
       "-8403022975375736636    ([nonsense_mediated_decay], 1)                \n",
       "-8239834149324152343    ([nonsense_mediated_decay], 1)                \n",
       "-7003683457219581767    ([nonsense_mediated_decay], 1)                \n",
       "-6967304914575017851    ([nonsense_mediated_decay], 1)                \n",
       "-6870317669951290742    ([protein_coding], 1)                         \n",
       "-6779581224490335370    ([protein_coding], 1)                         \n",
       "-6509607191405754552    ([protein_coding], 1)                         \n",
       "-6164088867915897106    ([nonsense_mediated_decay], 1)                \n",
       "-5675297078241503365    ([protein_coding], 1)                         \n",
       "-5597205556425114475    ([nonsense_mediated_decay], 1)                \n",
       "-5441304313678483069    ([nonsense_mediated_decay], 1)                \n",
       "-5369735789868731396    ([nonsense_mediated_decay], 1)                \n",
       "-4524969047426232376    ([protein_coding], 1)                         \n",
       "-4216436205289751625    ([nonsense_mediated_decay], 1)                \n",
       "-3822706216172553753    ([nonsense_mediated_decay], 1)                \n",
       "-2824629698330931823    ([protein_coding], 1)                         \n",
       "-1494612878042786520    ([nonsense_mediated_decay], 1)                \n",
       "-846976843218367119     ([nonsense_mediated_decay], 1)                \n",
       "-748219005321376421     ([nonsense_mediated_decay], 1)                \n",
       "-726064862292755291     ([protein_coding], 1)                         \n",
       "-521045256070825082     ([nonsense_mediated_decay], 1)                \n",
       "-136824502590761070     ([nonsense_mediated_decay], 4)                \n",
       " 226855344845409096     ([protein_coding], 1)                         \n",
       " 1030613379658782006    ([protein_coding], 1)                         \n",
       " 1616900496841520342    ([protein_coding], 1)                         \n",
       " 1743810783237455087    ([protein_coding, nonsense_mediated_decay], 2)\n",
       " 2082345469603947003    ([nonsense_mediated_decay], 1)                \n",
       " 2617325443831646522    ([protein_coding], 1)                         \n",
       " 4210041192366787699    ([nonsense_mediated_decay], 1)                \n",
       " 6119487688814978261    ([nonsense_mediated_decay], 1)                \n",
       " 6382525233512596218    ([protein_coding], 1)                         \n",
       " 7222638214133030774    ([protein_coding], 1)                         \n",
       " 7721263917110540350    ([nonsense_mediated_decay], 1)                \n",
       " 7846022830797537459    ([nonsense_mediated_decay], 1)                \n",
       " 7942287737898437341    ([nonsense_mediated_decay], 1)                \n",
       " 8136407806870357492    ([protein_coding], 1)                         \n",
       " 8148596497451076046    ([nonsense_mediated_decay], 1)                \n",
       " 8184101995126655332    ([nonsense_mediated_decay], 1)                \n",
       " 8196314931623065337    ([nonsense_mediated_decay], 1)                \n",
       " 8361743800394634567    ([protein_coding], 1)                         \n",
       " 8418738601049626976    ([nonsense_mediated_decay], 1)                \n",
       " 8579288872917098527    ([protein_coding], 1)                         \n",
       " 8811863679713585648    ([retained_intron, processed_transcript], 48) \n",
       "dtype: object"
      ]
     },
     "execution_count": 42,
     "metadata": {},
     "output_type": "execute_result"
    }
   ],
   "source": [
    "df_cds_list.groupby('cds_hash').apply(lambda g: (g.transcript_biotype.unique(), g.shape[0]))"
   ]
  },
  {
   "cell_type": "code",
   "execution_count": null,
   "metadata": {},
   "outputs": [],
   "source": []
  }
 ],
 "metadata": {
  "anaconda-cloud": {},
  "kernelspec": {
   "display_name": "Python 3",
   "language": "python",
   "name": "python3"
  },
  "language_info": {
   "codemirror_mode": {
    "name": "ipython",
    "version": 3
   },
   "file_extension": ".py",
   "mimetype": "text/x-python",
   "name": "python",
   "nbconvert_exporter": "python",
   "pygments_lexer": "ipython3",
   "version": "3.6.4"
  }
 },
 "nbformat": 4,
 "nbformat_minor": 1
}
