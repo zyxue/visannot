{
 "cells": [
  {
   "cell_type": "code",
   "execution_count": 1,
   "metadata": {},
   "outputs": [
    {
     "data": {
      "text/html": [
       "\n",
       "<style>\n",
       "   div#notebook-container    { width: 100%; }\n",
       "   div#menubar-container     { width: 100%; }\n",
       "   div#maintoolbar-container { width: 100%; }\n",
       "</style>\n"
      ],
      "text/plain": [
       "<IPython.core.display.HTML object>"
      ]
     },
     "metadata": {},
     "output_type": "display_data"
    }
   ],
   "source": [
    "from eda_imports import *\n",
    "\n",
    "import matplotlib.patches as patches"
   ]
  },
  {
   "cell_type": "markdown",
   "metadata": {},
   "source": [
    "### Load GTF"
   ]
  },
  {
   "cell_type": "code",
   "execution_count": 2,
   "metadata": {},
   "outputs": [
    {
     "name": "stdout",
     "output_type": "stream",
     "text": [
      "CPU times: user 1.38 s, sys: 915 ms, total: 2.3 s\n",
      "Wall time: 2.31 s\n"
     ]
    }
   ],
   "source": [
    "%time df_gtf = pd.read_pickle('/projects/btl2/zxue/gtf2csv/data/Homo_sapiens.GRCh37.75.pkl')"
   ]
  },
  {
   "cell_type": "code",
   "execution_count": 4,
   "metadata": {},
   "outputs": [],
   "source": [
    "ndf_gtf = df_gtf.query('feature != \"gene\"').query('feature != \"transcript\"').drop(['gene_source'], axis=1)"
   ]
  },
  {
   "cell_type": "markdown",
   "metadata": {},
   "source": [
    "# See how to common it is to have everything the same but 3' UTR for two transcripts"
   ]
  },
  {
   "cell_type": "code",
   "execution_count": 5,
   "metadata": {},
   "outputs": [
    {
     "data": {
      "text/html": [
       "<div>\n",
       "<style scoped>\n",
       "    .dataframe tbody tr th:only-of-type {\n",
       "        vertical-align: middle;\n",
       "    }\n",
       "\n",
       "    .dataframe tbody tr th {\n",
       "        vertical-align: top;\n",
       "    }\n",
       "\n",
       "    .dataframe thead th {\n",
       "        text-align: right;\n",
       "    }\n",
       "</style>\n",
       "<table border=\"1\" class=\"dataframe\">\n",
       "  <thead>\n",
       "    <tr style=\"text-align: right;\">\n",
       "      <th></th>\n",
       "      <th>seqname</th>\n",
       "      <th>source</th>\n",
       "      <th>feature</th>\n",
       "      <th>start</th>\n",
       "      <th>end</th>\n",
       "      <th>score</th>\n",
       "      <th>strand</th>\n",
       "      <th>frame</th>\n",
       "      <th>CCDS</th>\n",
       "      <th>ccds_id</th>\n",
       "      <th>cds_end_NF</th>\n",
       "      <th>cds_start_NF</th>\n",
       "      <th>exon_id</th>\n",
       "      <th>exon_number</th>\n",
       "      <th>gene_biotype</th>\n",
       "      <th>gene_id</th>\n",
       "      <th>gene_name</th>\n",
       "      <th>mRNA_end_NF</th>\n",
       "      <th>mRNA_start_NF</th>\n",
       "      <th>protein_id</th>\n",
       "      <th>seleno</th>\n",
       "      <th>transcript_id</th>\n",
       "      <th>transcript_name</th>\n",
       "      <th>transcript_source</th>\n",
       "    </tr>\n",
       "  </thead>\n",
       "  <tbody>\n",
       "    <tr>\n",
       "      <th>2</th>\n",
       "      <td>1</td>\n",
       "      <td>processed_transcript</td>\n",
       "      <td>exon</td>\n",
       "      <td>11869</td>\n",
       "      <td>12227</td>\n",
       "      <td>.</td>\n",
       "      <td>+</td>\n",
       "      <td>.</td>\n",
       "      <td>NaN</td>\n",
       "      <td>NaN</td>\n",
       "      <td>NaN</td>\n",
       "      <td>NaN</td>\n",
       "      <td>ENSE00002234944</td>\n",
       "      <td>1.0</td>\n",
       "      <td>pseudogene</td>\n",
       "      <td>ENSG00000223972</td>\n",
       "      <td>DDX11L1</td>\n",
       "      <td>NaN</td>\n",
       "      <td>NaN</td>\n",
       "      <td>NaN</td>\n",
       "      <td>NaN</td>\n",
       "      <td>ENST00000456328</td>\n",
       "      <td>DDX11L1-002</td>\n",
       "      <td>havana</td>\n",
       "    </tr>\n",
       "    <tr>\n",
       "      <th>3</th>\n",
       "      <td>1</td>\n",
       "      <td>processed_transcript</td>\n",
       "      <td>exon</td>\n",
       "      <td>12613</td>\n",
       "      <td>12721</td>\n",
       "      <td>.</td>\n",
       "      <td>+</td>\n",
       "      <td>.</td>\n",
       "      <td>NaN</td>\n",
       "      <td>NaN</td>\n",
       "      <td>NaN</td>\n",
       "      <td>NaN</td>\n",
       "      <td>ENSE00003582793</td>\n",
       "      <td>2.0</td>\n",
       "      <td>pseudogene</td>\n",
       "      <td>ENSG00000223972</td>\n",
       "      <td>DDX11L1</td>\n",
       "      <td>NaN</td>\n",
       "      <td>NaN</td>\n",
       "      <td>NaN</td>\n",
       "      <td>NaN</td>\n",
       "      <td>ENST00000456328</td>\n",
       "      <td>DDX11L1-002</td>\n",
       "      <td>havana</td>\n",
       "    </tr>\n",
       "  </tbody>\n",
       "</table>\n",
       "</div>"
      ],
      "text/plain": [
       "  seqname                source feature  start    end score strand frame  CCDS ccds_id  cds_end_NF  cds_start_NF          exon_id  exon_number gene_biotype          gene_id gene_name  mRNA_end_NF  mRNA_start_NF protein_id  seleno    transcript_id transcript_name transcript_source\n",
       "2  1       processed_transcript  exon    11869  12227  .     +      .    NaN    NaN    NaN         NaN            ENSE00002234944  1.0          pseudogene   ENSG00000223972  DDX11L1  NaN          NaN             NaN       NaN      ENST00000456328  DDX11L1-002     havana          \n",
       "3  1       processed_transcript  exon    12613  12721  .     +      .    NaN    NaN    NaN         NaN            ENSE00003582793  2.0          pseudogene   ENSG00000223972  DDX11L1  NaN          NaN             NaN       NaN      ENST00000456328  DDX11L1-002     havana          "
      ]
     },
     "execution_count": 5,
     "metadata": {},
     "output_type": "execute_result"
    }
   ],
   "source": [
    "ndf_gtf.head(2)"
   ]
  },
  {
   "cell_type": "code",
   "execution_count": 6,
   "metadata": {},
   "outputs": [
    {
     "data": {
      "text/plain": [
       "protein_coding             1887971\n",
       "nonsense_mediated_decay    279659 \n",
       "processed_transcript       141165 \n",
       "retained_intron            121455 \n",
       "lincRNA                    36487  \n",
       "Name: source, dtype: int64"
      ]
     },
     "execution_count": 6,
     "metadata": {},
     "output_type": "execute_result"
    }
   ],
   "source": [
    "ndf_gtf.source.value_counts().head()"
   ]
  },
  {
   "cell_type": "code",
   "execution_count": 7,
   "metadata": {},
   "outputs": [
    {
     "data": {
      "text/plain": [
       "exon              1306656\n",
       "CDS               791856 \n",
       "UTR               304070 \n",
       "stop_codon        73411  \n",
       "start_codon       73358  \n",
       "Selenocysteine    114    \n",
       "Name: feature, dtype: int64"
      ]
     },
     "execution_count": 7,
     "metadata": {},
     "output_type": "execute_result"
    }
   ],
   "source": [
    "ndf_gtf.feature.value_counts()"
   ]
  },
  {
   "cell_type": "code",
   "execution_count": 8,
   "metadata": {},
   "outputs": [],
   "source": [
    "assert df_gtf.gene_id.unique().shape[0] == df_gtf[['gene_id', 'gene_biotype']].drop_duplicates().shape[0]"
   ]
  },
  {
   "cell_type": "code",
   "execution_count": 9,
   "metadata": {},
   "outputs": [],
   "source": [
    "def count_transcripts_with_identical_cds(grp):\n",
    "    \"\"\"grp: grouped by gene_id\"\"\"\n",
    "    cds_list = []\n",
    "    for k, g in grp.query('source == \"protein_coding\"').groupby('transcript_id'):\n",
    "        cds_start_end_pairs = g.query('feature == \"CDS\"')[['start', 'end']].sort_values(['start', 'end']).values.tolist()\n",
    "        cds_start_end_pairs_str = str(cds_start_end_pairs)\n",
    "        cds_list.append(cds_start_end_pairs_str)\n",
    "    return pd.Series(cds_list).value_counts().max()"
   ]
  },
  {
   "cell_type": "code",
   "execution_count": 10,
   "metadata": {},
   "outputs": [
    {
     "name": "stdout",
     "output_type": "stream",
     "text": [
      "CPU times: user 14.7 s, sys: 730 ms, total: 15.4 s\n",
      "Wall time: 15.4 s\n"
     ]
    }
   ],
   "source": [
    "%%time\n",
    "keys, args = [], []\n",
    "grp_by_cols = ['gene_name', 'gene_id', 'gene_biotype']\n",
    "# for k, grp in tqdm(ndf_gtf.groupby(grp_by_cols)): # raise exception for some reason: https://github.com/tqdm/tqdm/issues/323\n",
    "for k, grp in ndf_gtf.groupby(grp_by_cols):\n",
    "    keys.append(k)\n",
    "    args.append(grp)"
   ]
  },
  {
   "cell_type": "code",
   "execution_count": 11,
   "metadata": {},
   "outputs": [
    {
     "name": "stdout",
     "output_type": "stream",
     "text": [
      "CPU times: user 18.7 s, sys: 4.05 s, total: 22.7 s\n",
      "Wall time: 42.2 s\n"
     ]
    }
   ],
   "source": [
    "%%time\n",
    "with multiprocessing.Pool(50) as p:\n",
    "    res = p.map(count_transcripts_with_identical_cds, args)"
   ]
  },
  {
   "cell_type": "code",
   "execution_count": 12,
   "metadata": {},
   "outputs": [],
   "source": [
    "# number of genes with transcripts that share identical cds regions\n",
    "df_count = pd.DataFrame(keys, columns=grp_by_cols)"
   ]
  },
  {
   "cell_type": "code",
   "execution_count": 13,
   "metadata": {},
   "outputs": [],
   "source": [
    "df_count['num'] = res"
   ]
  },
  {
   "cell_type": "code",
   "execution_count": 15,
   "metadata": {},
   "outputs": [
    {
     "data": {
      "text/html": [
       "<div>\n",
       "<style scoped>\n",
       "    .dataframe tbody tr th:only-of-type {\n",
       "        vertical-align: middle;\n",
       "    }\n",
       "\n",
       "    .dataframe tbody tr th {\n",
       "        vertical-align: top;\n",
       "    }\n",
       "\n",
       "    .dataframe thead th {\n",
       "        text-align: right;\n",
       "    }\n",
       "</style>\n",
       "<table border=\"1\" class=\"dataframe\">\n",
       "  <thead>\n",
       "    <tr style=\"text-align: right;\">\n",
       "      <th></th>\n",
       "      <th>gene_name</th>\n",
       "      <th>gene_id</th>\n",
       "      <th>gene_biotype</th>\n",
       "      <th>num</th>\n",
       "    </tr>\n",
       "  </thead>\n",
       "  <tbody>\n",
       "    <tr>\n",
       "      <th>0</th>\n",
       "      <td>5S_rRNA</td>\n",
       "      <td>ENSG00000201285</td>\n",
       "      <td>rRNA</td>\n",
       "      <td>NaN</td>\n",
       "    </tr>\n",
       "    <tr>\n",
       "      <th>1</th>\n",
       "      <td>5S_rRNA</td>\n",
       "      <td>ENSG00000212595</td>\n",
       "      <td>rRNA</td>\n",
       "      <td>NaN</td>\n",
       "    </tr>\n",
       "    <tr>\n",
       "      <th>2</th>\n",
       "      <td>5S_rRNA</td>\n",
       "      <td>ENSG00000238602</td>\n",
       "      <td>rRNA</td>\n",
       "      <td>NaN</td>\n",
       "    </tr>\n",
       "    <tr>\n",
       "      <th>3</th>\n",
       "      <td>5S_rRNA</td>\n",
       "      <td>ENSG00000238762</td>\n",
       "      <td>rRNA</td>\n",
       "      <td>NaN</td>\n",
       "    </tr>\n",
       "    <tr>\n",
       "      <th>4</th>\n",
       "      <td>5S_rRNA</td>\n",
       "      <td>ENSG00000239156</td>\n",
       "      <td>rRNA</td>\n",
       "      <td>NaN</td>\n",
       "    </tr>\n",
       "  </tbody>\n",
       "</table>\n",
       "</div>"
      ],
      "text/plain": [
       "  gene_name          gene_id gene_biotype  num\n",
       "0  5S_rRNA   ENSG00000201285  rRNA        NaN \n",
       "1  5S_rRNA   ENSG00000212595  rRNA        NaN \n",
       "2  5S_rRNA   ENSG00000238602  rRNA        NaN \n",
       "3  5S_rRNA   ENSG00000238762  rRNA        NaN \n",
       "4  5S_rRNA   ENSG00000239156  rRNA        NaN "
      ]
     },
     "execution_count": 15,
     "metadata": {},
     "output_type": "execute_result"
    }
   ],
   "source": [
    "df_count.head()"
   ]
  },
  {
   "cell_type": "code",
   "execution_count": 18,
   "metadata": {},
   "outputs": [
    {
     "data": {
      "text/plain": [
       "(22810, 4)"
      ]
     },
     "execution_count": 18,
     "metadata": {},
     "output_type": "execute_result"
    }
   ],
   "source": [
    "df_count.query('gene_biotype == \"protein_coding\"').shape"
   ]
  },
  {
   "cell_type": "code",
   "execution_count": 17,
   "metadata": {},
   "outputs": [
    {
     "data": {
      "text/plain": [
       "(5888, 4)"
      ]
     },
     "execution_count": 17,
     "metadata": {},
     "output_type": "execute_result"
    }
   ],
   "source": [
    "df_count.query('gene_biotype == \"protein_coding\"').query('num > 1').shape"
   ]
  },
  {
   "cell_type": "code",
   "execution_count": 19,
   "metadata": {},
   "outputs": [
    {
     "data": {
      "text/plain": [
       "0.2581323980710215"
      ]
     },
     "execution_count": 19,
     "metadata": {},
     "output_type": "execute_result"
    }
   ],
   "source": [
    "5888 / 22810"
   ]
  },
  {
   "cell_type": "markdown",
   "metadata": {},
   "source": [
    "So 25% of the genes have protein_coding transcripts sharing identical CDS"
   ]
  },
  {
   "cell_type": "code",
   "execution_count": 20,
   "metadata": {},
   "outputs": [],
   "source": [
    "ndf_count = df_count.query('gene_biotype == \"protein_coding\"')"
   ]
  },
  {
   "cell_type": "code",
   "execution_count": 23,
   "metadata": {},
   "outputs": [
    {
     "data": {
      "text/plain": [
       "(22810, 4)"
      ]
     },
     "execution_count": 23,
     "metadata": {},
     "output_type": "execute_result"
    }
   ],
   "source": [
    "ndf_count.shape"
   ]
  },
  {
   "cell_type": "code",
   "execution_count": 22,
   "metadata": {},
   "outputs": [
    {
     "data": {
      "text/html": [
       "<div>\n",
       "<style scoped>\n",
       "    .dataframe tbody tr th:only-of-type {\n",
       "        vertical-align: middle;\n",
       "    }\n",
       "\n",
       "    .dataframe tbody tr th {\n",
       "        vertical-align: top;\n",
       "    }\n",
       "\n",
       "    .dataframe thead th {\n",
       "        text-align: right;\n",
       "    }\n",
       "</style>\n",
       "<table border=\"1\" class=\"dataframe\">\n",
       "  <thead>\n",
       "    <tr style=\"text-align: right;\">\n",
       "      <th></th>\n",
       "      <th>gene_name</th>\n",
       "      <th>gene_id</th>\n",
       "      <th>gene_biotype</th>\n",
       "      <th>num</th>\n",
       "    </tr>\n",
       "  </thead>\n",
       "  <tbody>\n",
       "    <tr>\n",
       "      <th>27249</th>\n",
       "      <td>MRPL55</td>\n",
       "      <td>ENSG00000162910</td>\n",
       "      <td>protein_coding</td>\n",
       "      <td>17.0</td>\n",
       "    </tr>\n",
       "    <tr>\n",
       "      <th>8341</th>\n",
       "      <td>BDNF</td>\n",
       "      <td>ENSG00000176697</td>\n",
       "      <td>protein_coding</td>\n",
       "      <td>14.0</td>\n",
       "    </tr>\n",
       "    <tr>\n",
       "      <th>6694</th>\n",
       "      <td>ANAPC11</td>\n",
       "      <td>ENSG00000141552</td>\n",
       "      <td>protein_coding</td>\n",
       "      <td>13.0</td>\n",
       "    </tr>\n",
       "    <tr>\n",
       "      <th>62119</th>\n",
       "      <td>ZBTB7C</td>\n",
       "      <td>ENSG00000184828</td>\n",
       "      <td>protein_coding</td>\n",
       "      <td>12.0</td>\n",
       "    </tr>\n",
       "    <tr>\n",
       "      <th>21573</th>\n",
       "      <td>IL32</td>\n",
       "      <td>ENSG00000008517</td>\n",
       "      <td>protein_coding</td>\n",
       "      <td>10.0</td>\n",
       "    </tr>\n",
       "    <tr>\n",
       "      <th>28934</th>\n",
       "      <td>NREP</td>\n",
       "      <td>ENSG00000134986</td>\n",
       "      <td>protein_coding</td>\n",
       "      <td>10.0</td>\n",
       "    </tr>\n",
       "    <tr>\n",
       "      <th>59633</th>\n",
       "      <td>UBA52</td>\n",
       "      <td>ENSG00000221983</td>\n",
       "      <td>protein_coding</td>\n",
       "      <td>10.0</td>\n",
       "    </tr>\n",
       "    <tr>\n",
       "      <th>7718</th>\n",
       "      <td>ARPP21</td>\n",
       "      <td>ENSG00000172995</td>\n",
       "      <td>protein_coding</td>\n",
       "      <td>10.0</td>\n",
       "    </tr>\n",
       "    <tr>\n",
       "      <th>5397</th>\n",
       "      <td>AGTR1</td>\n",
       "      <td>ENSG00000144891</td>\n",
       "      <td>protein_coding</td>\n",
       "      <td>9.0</td>\n",
       "    </tr>\n",
       "    <tr>\n",
       "      <th>16590</th>\n",
       "      <td>FAM107B</td>\n",
       "      <td>ENSG00000065809</td>\n",
       "      <td>protein_coding</td>\n",
       "      <td>9.0</td>\n",
       "    </tr>\n",
       "  </tbody>\n",
       "</table>\n",
       "</div>"
      ],
      "text/plain": [
       "      gene_name          gene_id    gene_biotype   num\n",
       "27249  MRPL55    ENSG00000162910  protein_coding  17.0\n",
       "8341   BDNF      ENSG00000176697  protein_coding  14.0\n",
       "6694   ANAPC11   ENSG00000141552  protein_coding  13.0\n",
       "62119  ZBTB7C    ENSG00000184828  protein_coding  12.0\n",
       "21573  IL32      ENSG00000008517  protein_coding  10.0\n",
       "28934  NREP      ENSG00000134986  protein_coding  10.0\n",
       "59633  UBA52     ENSG00000221983  protein_coding  10.0\n",
       "7718   ARPP21    ENSG00000172995  protein_coding  10.0\n",
       "5397   AGTR1     ENSG00000144891  protein_coding  9.0 \n",
       "16590  FAM107B   ENSG00000065809  protein_coding  9.0 "
      ]
     },
     "execution_count": 22,
     "metadata": {},
     "output_type": "execute_result"
    }
   ],
   "source": [
    "ndf_count.sort_values('num', ascending=False).head(10)"
   ]
  },
  {
   "cell_type": "code",
   "execution_count": null,
   "metadata": {},
   "outputs": [],
   "source": []
  },
  {
   "cell_type": "code",
   "execution_count": null,
   "metadata": {},
   "outputs": [],
   "source": []
  }
 ],
 "metadata": {
  "anaconda-cloud": {},
  "kernelspec": {
   "display_name": "Python 3",
   "language": "python",
   "name": "python3"
  },
  "language_info": {
   "codemirror_mode": {
    "name": "ipython",
    "version": 3
   },
   "file_extension": ".py",
   "mimetype": "text/x-python",
   "name": "python",
   "nbconvert_exporter": "python",
   "pygments_lexer": "ipython3",
   "version": "3.6.4"
  }
 },
 "nbformat": 4,
 "nbformat_minor": 1
}
